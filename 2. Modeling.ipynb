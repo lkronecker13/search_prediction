{
 "cells": [
  {
   "cell_type": "markdown",
   "metadata": {},
   "source": [
    "# Modeling\n",
    "\n",
    "In this notebook we will train a model that will learn from the search sequences that the users have emitted. We will use directly the feature that we engineered in the las notebook to extract our data.\n",
    "\n",
    "First we will decide which model we will be using. Then we will create the required building blocks for processing our data and training our model. Hopefully we will have time to create a way to test and compare all the trained models so we can choose the best one.\n",
    "\n",
    "***The answer to the questions can be found here: ***\n",
    "- [Answer to second question](#cell_second_question)\n",
    "- [Answer to third question](#cell_third_question)\n",
    "- [Answer to fourth question](#cell_fourth_question)\n",
    "\n",
    "\n"
   ]
  },
  {
   "cell_type": "code",
   "execution_count": 19,
   "metadata": {
    "collapsed": true
   },
   "outputs": [],
   "source": [
    "from os import path\n",
    "import pandas as pd\n",
    "import os\n",
    "from tools import *\n",
    "\n",
    "import matplotlib.pyplot as plt\n",
    "%matplotlib inline\n",
    "plt.rcParams['figure.figsize'] = [15, 7]"
   ]
  },
  {
   "cell_type": "markdown",
   "metadata": {},
   "source": [
    "Let's load the data from the last notebook. "
   ]
  },
  {
   "cell_type": "code",
   "execution_count": 20,
   "metadata": {},
   "outputs": [
    {
     "data": {
      "text/html": [
       "<div>\n",
       "<style>\n",
       "    .dataframe thead tr:only-child th {\n",
       "        text-align: right;\n",
       "    }\n",
       "\n",
       "    .dataframe thead th {\n",
       "        text-align: left;\n",
       "    }\n",
       "\n",
       "    .dataframe tbody tr th {\n",
       "        vertical-align: top;\n",
       "    }\n",
       "</style>\n",
       "<table border=\"1\" class=\"dataframe\">\n",
       "  <thead>\n",
       "    <tr style=\"text-align: right;\">\n",
       "      <th></th>\n",
       "      <th>session_id</th>\n",
       "      <th>unix_timestamp</th>\n",
       "      <th>cities</th>\n",
       "      <th>user_id</th>\n",
       "      <th>joining_date</th>\n",
       "      <th>country</th>\n",
       "      <th>cities_searched</th>\n",
       "      <th>city_integer_sequence</th>\n",
       "      <th>binary_sequence</th>\n",
       "      <th>country_code</th>\n",
       "    </tr>\n",
       "  </thead>\n",
       "  <tbody>\n",
       "    <tr>\n",
       "      <th>0</th>\n",
       "      <td>X061RFWB06K9V</td>\n",
       "      <td>1442503708</td>\n",
       "      <td>New York NY, Newark NJ</td>\n",
       "      <td>2024</td>\n",
       "      <td>2015-03-22</td>\n",
       "      <td>UK</td>\n",
       "      <td>2</td>\n",
       "      <td>[51, 52]</td>\n",
       "      <td>[0, 0, 0, 0, 0, 0, 0, 0, 0, 0, 0, 0, 0, 0, 0, ...</td>\n",
       "      <td>1</td>\n",
       "    </tr>\n",
       "    <tr>\n",
       "      <th>1</th>\n",
       "      <td>5AZ2X2A9BHH5U</td>\n",
       "      <td>1441353991</td>\n",
       "      <td>New York NY, Jersey City NJ, Philadelphia PA</td>\n",
       "      <td>2853</td>\n",
       "      <td>2015-03-28</td>\n",
       "      <td>DE</td>\n",
       "      <td>3</td>\n",
       "      <td>[51, 33, 59]</td>\n",
       "      <td>[0, 0, 0, 0, 0, 0, 0, 0, 0, 0, 0, 0, 0, 0, 0, ...</td>\n",
       "      <td>2</td>\n",
       "    </tr>\n",
       "    <tr>\n",
       "      <th>2</th>\n",
       "      <td>SHTB4IYAX4PX6</td>\n",
       "      <td>1440843490</td>\n",
       "      <td>San Antonio TX</td>\n",
       "      <td>10958</td>\n",
       "      <td>2015-03-06</td>\n",
       "      <td>UK</td>\n",
       "      <td>1</td>\n",
       "      <td>[71]</td>\n",
       "      <td>[0, 0, 0, 0, 0, 0, 0, 0, 0, 0, 0, 0, 0, 0, 0, ...</td>\n",
       "      <td>1</td>\n",
       "    </tr>\n",
       "    <tr>\n",
       "      <th>3</th>\n",
       "      <td>JBRB8MZGTX3M4</td>\n",
       "      <td>1427268063</td>\n",
       "      <td>Edmonton AB</td>\n",
       "      <td>7693</td>\n",
       "      <td>2015-03-12</td>\n",
       "      <td>IT</td>\n",
       "      <td>1</td>\n",
       "      <td>[21]</td>\n",
       "      <td>[0, 0, 0, 0, 0, 0, 0, 0, 0, 0, 0, 0, 0, 0, 0, ...</td>\n",
       "      <td>3</td>\n",
       "    </tr>\n",
       "    <tr>\n",
       "      <th>4</th>\n",
       "      <td>YJCMPURC2FL9C</td>\n",
       "      <td>1430559067</td>\n",
       "      <td>Phoenix AZ, Houston TX</td>\n",
       "      <td>7506</td>\n",
       "      <td>2015-02-28</td>\n",
       "      <td>UK</td>\n",
       "      <td>2</td>\n",
       "      <td>[60, 30]</td>\n",
       "      <td>[0, 0, 0, 0, 0, 0, 0, 0, 0, 0, 0, 0, 0, 0, 0, ...</td>\n",
       "      <td>1</td>\n",
       "    </tr>\n",
       "  </tbody>\n",
       "</table>\n",
       "</div>"
      ],
      "text/plain": [
       "      session_id  unix_timestamp  \\\n",
       "0  X061RFWB06K9V      1442503708   \n",
       "1  5AZ2X2A9BHH5U      1441353991   \n",
       "2  SHTB4IYAX4PX6      1440843490   \n",
       "3  JBRB8MZGTX3M4      1427268063   \n",
       "4  YJCMPURC2FL9C      1430559067   \n",
       "\n",
       "                                         cities  user_id joining_date country  \\\n",
       "0                        New York NY, Newark NJ     2024   2015-03-22      UK   \n",
       "1  New York NY, Jersey City NJ, Philadelphia PA     2853   2015-03-28      DE   \n",
       "2                                San Antonio TX    10958   2015-03-06      UK   \n",
       "3                                   Edmonton AB     7693   2015-03-12      IT   \n",
       "4                        Phoenix AZ, Houston TX     7506   2015-02-28      UK   \n",
       "\n",
       "   cities_searched city_integer_sequence  \\\n",
       "0                2              [51, 52]   \n",
       "1                3          [51, 33, 59]   \n",
       "2                1                  [71]   \n",
       "3                1                  [21]   \n",
       "4                2              [60, 30]   \n",
       "\n",
       "                                     binary_sequence  country_code  \n",
       "0  [0, 0, 0, 0, 0, 0, 0, 0, 0, 0, 0, 0, 0, 0, 0, ...             1  \n",
       "1  [0, 0, 0, 0, 0, 0, 0, 0, 0, 0, 0, 0, 0, 0, 0, ...             2  \n",
       "2  [0, 0, 0, 0, 0, 0, 0, 0, 0, 0, 0, 0, 0, 0, 0, ...             1  \n",
       "3  [0, 0, 0, 0, 0, 0, 0, 0, 0, 0, 0, 0, 0, 0, 0, ...             3  \n",
       "4  [0, 0, 0, 0, 0, 0, 0, 0, 0, 0, 0, 0, 0, 0, 0, ...             1  "
      ]
     },
     "execution_count": 20,
     "metadata": {},
     "output_type": "execute_result"
    }
   ],
   "source": [
    "df_original = pd.read_csv('data/enhanced/df_modeling.csv')\n",
    "# Make sure that Nan values are encoded as ''\n",
    "df_original.replace(np.nan, '', regex=True, inplace=True)\n",
    "\n",
    "# Let's transform the search sequences back to numpy arrays so we can work with them.\n",
    "df_original['city_integer_sequence'] = df_original['city_integer_sequence'].apply(strings_to_list)\n",
    "\n",
    "df_original.head()\n"
   ]
  },
  {
   "cell_type": "code",
   "execution_count": 21,
   "metadata": {},
   "outputs": [
    {
     "name": "stdout",
     "output_type": "stream",
     "text": [
      "<class 'pandas.core.frame.DataFrame'>\n",
      "RangeIndex: 20022 entries, 0 to 20021\n",
      "Data columns (total 10 columns):\n",
      "session_id               20022 non-null object\n",
      "unix_timestamp           20022 non-null int64\n",
      "cities                   20022 non-null object\n",
      "user_id                  20022 non-null int64\n",
      "joining_date             20022 non-null object\n",
      "country                  20022 non-null object\n",
      "cities_searched          20022 non-null int64\n",
      "city_integer_sequence    20022 non-null object\n",
      "binary_sequence          20022 non-null object\n",
      "country_code             20022 non-null int64\n",
      "dtypes: int64(4), object(6)\n",
      "memory usage: 1.5+ MB\n"
     ]
    }
   ],
   "source": [
    "df_original.info()\n",
    "# print(type(df_original['city_integer_sequence'].values[0]))"
   ]
  },
  {
   "cell_type": "markdown",
   "metadata": {},
   "source": [
    "The dataframe exactly as we had it on last notebook.\n",
    "\n",
    "Let's recover the list of all cities that we saved to 'data/city_list.json' on last notebook. We will use it several times here as well."
   ]
  },
  {
   "cell_type": "code",
   "execution_count": 22,
   "metadata": {},
   "outputs": [
    {
     "name": "stdout",
     "output_type": "stream",
     "text": [
      "['Anaheim CA', 'Arlington TX', 'Atlanta GA', 'Austin TX', 'Bakersfield CA', 'Baltimore MD', 'Birmingham AL', 'Boston MA', 'Buffalo NY', 'Calgary AB', 'Chandler AZ', 'Charlotte NC', 'Chesapeake VA', 'Chicago IL', 'Cincinnati OH', 'Cleveland OH', 'Columbus OH', 'Corpus Christi TX', 'Dallas TX', 'Detroit MI', 'Edmonton AB', 'Fort Wayne IN', 'Fort Worth TX', 'Fresno CA', 'Glendale AZ', 'Greensboro NC', 'Halifax NS', 'Hamilton ON', 'Hialeah FL', 'Houston TX', 'Indianapolis IN', 'Jacksonville FL', 'Jersey City NJ', 'Kansas City MO', 'Kitchener ON', 'Lexington KY', 'Lincoln NE', 'London ON', 'Long Beach CA', 'Los Angeles CA', 'Louisville KY', 'Madison WI', 'Memphis TN', 'Mesa AZ', 'Miami FL', 'Milwaukee WI', 'Minneapolis MN', 'Montreal QC', 'Nashville TN', 'New Orleans LA', 'New York NY', 'Newark NJ', 'Norfolk VA', 'OTTAWA ON', 'Oakland CA', 'Oklahoma City OK', 'Omaha NE', 'Oshawa ON', 'Philadelphia PA', 'Phoenix AZ', 'Pittsburgh PA', 'Plano TX', 'Portland OR', 'Quebec QC', 'Raleigh NC', 'Riverside CA', 'Sacramento CA', 'Saint Catharines-Niagara ON', 'Saint Paul MN', 'Saint Petersburg FL', 'San Antonio TX', 'San Diego CA', 'San Francisco CA', 'San Jose CA', 'Santa Ana CA', 'Scottsdale AZ', 'Seattle WA', 'Stockton CA', 'Tampa FL', 'Toledo OH', 'Toronto ON', 'Tucson AZ', 'Tulsa OK', 'Vancouver BC', 'Victoria BC', 'Virginia Beach VA', 'WASHINGTON DC', 'Wichita KS', 'Windsor ON']\n"
     ]
    }
   ],
   "source": [
    "# Recover the city list that we had saved last time\n",
    "with open('data/city_list.json', 'r') as f:\n",
    "        city_list = list(json.load(f)['city_list'])\n",
    "        \n",
    "print(city_list)"
   ]
  },
  {
   "cell_type": "code",
   "execution_count": 23,
   "metadata": {},
   "outputs": [
    {
     "data": {
      "text/html": [
       "<div>\n",
       "<style>\n",
       "    .dataframe thead tr:only-child th {\n",
       "        text-align: right;\n",
       "    }\n",
       "\n",
       "    .dataframe thead th {\n",
       "        text-align: left;\n",
       "    }\n",
       "\n",
       "    .dataframe tbody tr th {\n",
       "        vertical-align: top;\n",
       "    }\n",
       "</style>\n",
       "<table border=\"1\" class=\"dataframe\">\n",
       "  <thead>\n",
       "    <tr style=\"text-align: right;\">\n",
       "      <th></th>\n",
       "      <th>session_id</th>\n",
       "      <th>unix_timestamp</th>\n",
       "      <th>cities</th>\n",
       "      <th>user_id</th>\n",
       "      <th>joining_date</th>\n",
       "      <th>country</th>\n",
       "      <th>cities_searched</th>\n",
       "      <th>city_integer_sequence</th>\n",
       "      <th>binary_sequence</th>\n",
       "      <th>country_code</th>\n",
       "    </tr>\n",
       "  </thead>\n",
       "  <tbody>\n",
       "    <tr>\n",
       "      <th>4818</th>\n",
       "      <td>KHH2D79TU73O6</td>\n",
       "      <td>1431465585</td>\n",
       "      <td>Montreal QC, Boston MA, New York NY, Jersey Ci...</td>\n",
       "      <td>5644</td>\n",
       "      <td>2015-03-21</td>\n",
       "      <td>US</td>\n",
       "      <td>11</td>\n",
       "      <td>[48, 8, 51, 33, 52, 6, 87, 53, 13, 65, 26]</td>\n",
       "      <td>[0, 0, 0, 0, 0, 1, 0, 1, 0, 0, 0, 0, 1, 0, 0, ...</td>\n",
       "      <td>5</td>\n",
       "    </tr>\n",
       "    <tr>\n",
       "      <th>15510</th>\n",
       "      <td>PGBYV8JNV13LC</td>\n",
       "      <td>1442481402</td>\n",
       "      <td>New York NY, Jersey City NJ, Newark NJ, Philad...</td>\n",
       "      <td>3196</td>\n",
       "      <td>2015-03-15</td>\n",
       "      <td></td>\n",
       "      <td>9</td>\n",
       "      <td>[51, 33, 52, 59, 87, 13, 86, 65, 12]</td>\n",
       "      <td>[0, 0, 0, 0, 0, 0, 0, 0, 0, 0, 0, 1, 1, 0, 0, ...</td>\n",
       "      <td>0</td>\n",
       "    </tr>\n",
       "    <tr>\n",
       "      <th>2698</th>\n",
       "      <td>3R4UV4V398B60</td>\n",
       "      <td>1443269955</td>\n",
       "      <td>Chicago IL, Madison WI, Milwaukee WI, Fort Way...</td>\n",
       "      <td>4273</td>\n",
       "      <td>2015-03-17</td>\n",
       "      <td>IT</td>\n",
       "      <td>8</td>\n",
       "      <td>[14, 42, 46, 22, 80, 20, 16, 61]</td>\n",
       "      <td>[0, 0, 0, 0, 0, 0, 0, 0, 0, 0, 0, 0, 0, 1, 0, ...</td>\n",
       "      <td>3</td>\n",
       "    </tr>\n",
       "    <tr>\n",
       "      <th>9356</th>\n",
       "      <td>X0UD44Z9EF7ZI</td>\n",
       "      <td>1429279640</td>\n",
       "      <td>Montreal QC, OTTAWA ON, Oshawa ON, Toronto ON,...</td>\n",
       "      <td>6513</td>\n",
       "      <td>2015-03-02</td>\n",
       "      <td>FR</td>\n",
       "      <td>8</td>\n",
       "      <td>[48, 54, 58, 81, 35, 28, 68, 9]</td>\n",
       "      <td>[0, 0, 0, 0, 0, 0, 0, 0, 1, 0, 0, 0, 0, 0, 0, ...</td>\n",
       "      <td>6</td>\n",
       "    </tr>\n",
       "    <tr>\n",
       "      <th>12607</th>\n",
       "      <td>GPMBRPR9EYZA7</td>\n",
       "      <td>1434559155</td>\n",
       "      <td>New York NY, Jersey City NJ, Newark NJ, Baltim...</td>\n",
       "      <td>5200</td>\n",
       "      <td>2015-03-29</td>\n",
       "      <td>UK</td>\n",
       "      <td>8</td>\n",
       "      <td>[51, 33, 52, 6, 87, 53, 86, 13]</td>\n",
       "      <td>[0, 0, 0, 0, 0, 1, 0, 0, 0, 0, 0, 0, 1, 0, 0, ...</td>\n",
       "      <td>1</td>\n",
       "    </tr>\n",
       "  </tbody>\n",
       "</table>\n",
       "</div>"
      ],
      "text/plain": [
       "          session_id  unix_timestamp  \\\n",
       "4818   KHH2D79TU73O6      1431465585   \n",
       "15510  PGBYV8JNV13LC      1442481402   \n",
       "2698   3R4UV4V398B60      1443269955   \n",
       "9356   X0UD44Z9EF7ZI      1429279640   \n",
       "12607  GPMBRPR9EYZA7      1434559155   \n",
       "\n",
       "                                                  cities  user_id  \\\n",
       "4818   Montreal QC, Boston MA, New York NY, Jersey Ci...     5644   \n",
       "15510  New York NY, Jersey City NJ, Newark NJ, Philad...     3196   \n",
       "2698   Chicago IL, Madison WI, Milwaukee WI, Fort Way...     4273   \n",
       "9356   Montreal QC, OTTAWA ON, Oshawa ON, Toronto ON,...     6513   \n",
       "12607  New York NY, Jersey City NJ, Newark NJ, Baltim...     5200   \n",
       "\n",
       "      joining_date country  cities_searched  \\\n",
       "4818    2015-03-21      US               11   \n",
       "15510   2015-03-15                        9   \n",
       "2698    2015-03-17      IT                8   \n",
       "9356    2015-03-02      FR                8   \n",
       "12607   2015-03-29      UK                8   \n",
       "\n",
       "                            city_integer_sequence  \\\n",
       "4818   [48, 8, 51, 33, 52, 6, 87, 53, 13, 65, 26]   \n",
       "15510        [51, 33, 52, 59, 87, 13, 86, 65, 12]   \n",
       "2698             [14, 42, 46, 22, 80, 20, 16, 61]   \n",
       "9356              [48, 54, 58, 81, 35, 28, 68, 9]   \n",
       "12607             [51, 33, 52, 6, 87, 53, 86, 13]   \n",
       "\n",
       "                                         binary_sequence  country_code  \n",
       "4818   [0, 0, 0, 0, 0, 1, 0, 1, 0, 0, 0, 0, 1, 0, 0, ...             5  \n",
       "15510  [0, 0, 0, 0, 0, 0, 0, 0, 0, 0, 0, 1, 1, 0, 0, ...             0  \n",
       "2698   [0, 0, 0, 0, 0, 0, 0, 0, 0, 0, 0, 0, 0, 1, 0, ...             3  \n",
       "9356   [0, 0, 0, 0, 0, 0, 0, 0, 1, 0, 0, 0, 0, 0, 0, ...             6  \n",
       "12607  [0, 0, 0, 0, 0, 1, 0, 0, 0, 0, 0, 0, 1, 0, 0, ...             1  "
      ]
     },
     "execution_count": 23,
     "metadata": {},
     "output_type": "execute_result"
    }
   ],
   "source": [
    "df_original.sort_values(['cities_searched'], ascending=False).head()"
   ]
  },
  {
   "cell_type": "code",
   "execution_count": 24,
   "metadata": {},
   "outputs": [
    {
     "data": {
      "text/plain": [
       "count    20022.000000\n",
       "mean         1.648986\n",
       "std          0.874272\n",
       "min          1.000000\n",
       "25%          1.000000\n",
       "50%          1.000000\n",
       "75%          2.000000\n",
       "max         11.000000\n",
       "Name: cities_searched, dtype: float64"
      ]
     },
     "execution_count": 24,
     "metadata": {},
     "output_type": "execute_result"
    }
   ],
   "source": [
    "df_original['cities_searched'].describe()"
   ]
  },
  {
   "cell_type": "markdown",
   "metadata": {},
   "source": [
    "Only 25% of the data has searches between 2 and 11 cities, all the remaining 75% represents searches for one or two cities. Since we want to predict the next searched city given a sequence of cities then ***we will only consider searches that include more than one city***. Let's remove all the searches that have only one city and see what data remains. We will loose around half of our data with this. We'll soon find if it is the best solution."
   ]
  },
  {
   "cell_type": "code",
   "execution_count": 25,
   "metadata": {},
   "outputs": [
    {
     "data": {
      "text/plain": [
       "(9351, 10)"
      ]
     },
     "execution_count": 25,
     "metadata": {},
     "output_type": "execute_result"
    }
   ],
   "source": [
    "df_relevant_sequences = df_original[df_original['cities_searched'] > 1]\n",
    "df_relevant_sequences.shape"
   ]
  },
  {
   "cell_type": "code",
   "execution_count": 26,
   "metadata": {},
   "outputs": [
    {
     "data": {
      "text/html": [
       "<div>\n",
       "<style>\n",
       "    .dataframe thead tr:only-child th {\n",
       "        text-align: right;\n",
       "    }\n",
       "\n",
       "    .dataframe thead th {\n",
       "        text-align: left;\n",
       "    }\n",
       "\n",
       "    .dataframe tbody tr th {\n",
       "        vertical-align: top;\n",
       "    }\n",
       "</style>\n",
       "<table border=\"1\" class=\"dataframe\">\n",
       "  <thead>\n",
       "    <tr style=\"text-align: right;\">\n",
       "      <th></th>\n",
       "      <th>unix_timestamp</th>\n",
       "      <th>user_id</th>\n",
       "      <th>cities_searched</th>\n",
       "      <th>country_code</th>\n",
       "    </tr>\n",
       "  </thead>\n",
       "  <tbody>\n",
       "    <tr>\n",
       "      <th>count</th>\n",
       "      <td>9.351000e+03</td>\n",
       "      <td>9351.000000</td>\n",
       "      <td>9351.000000</td>\n",
       "      <td>9351.000000</td>\n",
       "    </tr>\n",
       "    <tr>\n",
       "      <th>mean</th>\n",
       "      <td>1.435066e+09</td>\n",
       "      <td>5494.582611</td>\n",
       "      <td>2.389584</td>\n",
       "      <td>2.866431</td>\n",
       "    </tr>\n",
       "    <tr>\n",
       "      <th>std</th>\n",
       "      <td>4.988852e+06</td>\n",
       "      <td>3202.799299</td>\n",
       "      <td>0.779397</td>\n",
       "      <td>2.003264</td>\n",
       "    </tr>\n",
       "    <tr>\n",
       "      <th>min</th>\n",
       "      <td>1.425210e+09</td>\n",
       "      <td>4.000000</td>\n",
       "      <td>2.000000</td>\n",
       "      <td>0.000000</td>\n",
       "    </tr>\n",
       "    <tr>\n",
       "      <th>25%</th>\n",
       "      <td>1.430808e+09</td>\n",
       "      <td>2710.000000</td>\n",
       "      <td>2.000000</td>\n",
       "      <td>1.000000</td>\n",
       "    </tr>\n",
       "    <tr>\n",
       "      <th>50%</th>\n",
       "      <td>1.435048e+09</td>\n",
       "      <td>5443.000000</td>\n",
       "      <td>2.000000</td>\n",
       "      <td>2.000000</td>\n",
       "    </tr>\n",
       "    <tr>\n",
       "      <th>75%</th>\n",
       "      <td>1.439374e+09</td>\n",
       "      <td>8314.000000</td>\n",
       "      <td>3.000000</td>\n",
       "      <td>5.000000</td>\n",
       "    </tr>\n",
       "    <tr>\n",
       "      <th>max</th>\n",
       "      <td>1.443747e+09</td>\n",
       "      <td>10990.000000</td>\n",
       "      <td>11.000000</td>\n",
       "      <td>6.000000</td>\n",
       "    </tr>\n",
       "  </tbody>\n",
       "</table>\n",
       "</div>"
      ],
      "text/plain": [
       "       unix_timestamp       user_id  cities_searched  country_code\n",
       "count    9.351000e+03   9351.000000      9351.000000   9351.000000\n",
       "mean     1.435066e+09   5494.582611         2.389584      2.866431\n",
       "std      4.988852e+06   3202.799299         0.779397      2.003264\n",
       "min      1.425210e+09      4.000000         2.000000      0.000000\n",
       "25%      1.430808e+09   2710.000000         2.000000      1.000000\n",
       "50%      1.435048e+09   5443.000000         2.000000      2.000000\n",
       "75%      1.439374e+09   8314.000000         3.000000      5.000000\n",
       "max      1.443747e+09  10990.000000        11.000000      6.000000"
      ]
     },
     "execution_count": 26,
     "metadata": {},
     "output_type": "execute_result"
    }
   ],
   "source": [
    "df_relevant_sequences.describe()"
   ]
  },
  {
   "cell_type": "markdown",
   "metadata": {},
   "source": [
    "Now we have only 9351 datapoints. We lost half of our data! But now we are sure that the search sequences have at have at least two cities so we can use them for some sort of sequential model.\n",
    "Let's split our sequences so that we take the last elements of each sequence and put them into a list to be used as our targets. The remaining elements in each sequence will be used as the set of observations."
   ]
  },
  {
   "cell_type": "markdown",
   "metadata": {},
   "source": [
    "## Model choice\n",
    "\n",
    "It is time to choose a model to train in order to be able to predict the potentially next cities in a sequence.\n",
    "The search sequences already tokenized already tokenized in the last notebook look like this:"
   ]
  },
  {
   "cell_type": "code",
   "execution_count": 27,
   "metadata": {},
   "outputs": [
    {
     "data": {
      "text/plain": [
       "[array([48,  8, 51, 33, 52,  6, 87, 53, 13, 65, 26]),\n",
       " array([51, 33, 52, 59, 87, 13, 86, 65, 12]),\n",
       " array([14, 42, 46, 22, 80, 20, 16, 61]),\n",
       " array([48, 54, 58, 81, 35, 28, 68,  9]),\n",
       " array([51, 33, 52,  6, 87, 53, 86, 13]),\n",
       " array([32, 79,  3,  7, 49, 36, 17]),\n",
       " array([51, 33, 59, 52,  6, 53, 13]),\n",
       " array([19, 23,  2,  4, 30, 71, 18]),\n",
       " array([30,  4, 23, 56, 62, 19,  2]),\n",
       " array([51, 33,  6, 87, 13, 53, 65])]"
      ]
     },
     "execution_count": 27,
     "metadata": {},
     "output_type": "execute_result"
    }
   ],
   "source": [
    "list(df_original.sort_values(['cities_searched'], ascending=False)['city_integer_sequence'].values)[:10]"
   ]
  },
  {
   "cell_type": "code",
   "execution_count": 28,
   "metadata": {},
   "outputs": [
    {
     "name": "stdout",
     "output_type": "stream",
     "text": [
      "[51 33 59]\n",
      "New York NY, Jersey City NJ, Philadelphia PA\n"
     ]
    }
   ],
   "source": [
    "print(df_original.sort_values(['cities_searched'], ascending=False)['city_integer_sequence'][1])\n",
    "print(df_original.sort_values(['cities_searched'], ascending=False)['cities'][1])"
   ]
  },
  {
   "cell_type": "code",
   "execution_count": null,
   "metadata": {
    "collapsed": true
   },
   "outputs": [],
   "source": []
  },
  {
   "cell_type": "markdown",
   "metadata": {},
   "source": [
    "The most inviting thing to do is to use the sequences directly as observations in order to predict what character would be next given a sequence. In order to achieve this we will have to process our data accordingly so we split the sequences as effectively as possible so we maximize the quantity of data and preserve the sequential patterns of the observations. \n",
    "\n",
    "We will use a Recurrent Neural Network with LSTM layers as a model. Nowadays RNN based models are known to be among the most performant methods of sequence classification and sequence generation. \n",
    "\n",
    "We will approach this problem as a classification with as many classes as different cities are in the data. So we will have 89 different classes among which to classify 9351 sequences. The number of classes seems pretty big for the number of data points, we need more observations. We will have to enhance our data by decomposing the sequences into more sequences that provide us with sequential patterns."
   ]
  },
  {
   "cell_type": "markdown",
   "metadata": {},
   "source": [
    "## Processing\n",
    "\n",
    "Let's decompose our sequences in a way that maximizes the amount of data without losing any sequential relationships within each sequence, in other words; without shuffling them or creating any new ones. \n",
    "\n",
    "We will decompose each sequence as follows:\n",
    "```\n",
    "[30,  4, 23, 56] - > ([30,  4, 23], 56)\n",
    "[30,  4, 23]     - > ([30,  4], 23)\n",
    "[30,  4]         - > ([30], 4)\n",
    "```\n",
    "Each sequence will be split into a pair of itself without the last element and its last element. Then we will apply this recursively until the number of elements allows it.\n",
    "The single values in the rightmost side of the output at each round will be used as the labels (y) and the left values as observations. \n"
   ]
  },
  {
   "cell_type": "code",
   "execution_count": 29,
   "metadata": {
    "collapsed": true
   },
   "outputs": [],
   "source": [
    "def enhance_sequences(sequences):\n",
    "    \"\"\"\n",
    "    Enhance sequential data by spliting each sequence into several sequences that preserve sequential patterns.\n",
    "    :param x: List of sequences.\n",
    "    :return: X and y list. Where X contains the obserations and y de labels.\n",
    "    \"\"\"\n",
    "    X = []\n",
    "    y = []\n",
    "    \n",
    "    for seq in sequences:\n",
    "        X_seq, y_seq = split_sequence(seq)\n",
    "        X.extend(X_seq)\n",
    "        y.extend(y_seq)\n",
    "        \n",
    "    # reshape\n",
    "    X = np.asarray(X)\n",
    "    y = np.asarray(y)\n",
    "\n",
    "    return X, y\n",
    "\n",
    "def split_sequence(sequence):\n",
    "    \"\"\"\n",
    "    Split sequence and extract observations and labels.\n",
    "    :param x: Sequence.\n",
    "    :return: X and y list. Where X contains the obserations and y de labels.\n",
    "    \"\"\"\n",
    "    \n",
    "    X = []\n",
    "    y = []    \n",
    "    # Invert the sequence\n",
    "    inverted = np.array(sequence)[::-1]\n",
    "    # Enumerate through inverted sequence minus the last element\n",
    "    for idx, token in enumerate(inverted[:-1]):\n",
    "        # Save from the second element all the way to the end of the inverted sequence as an observation\n",
    "        X.append(np.asarray(inverted[idx+1:][::-1]))\n",
    "        # Save the firt element in the inverted sequence as a label\n",
    "        y.append(token)\n",
    "        \n",
    "    X = np.asarray(X)\n",
    "    y = np.asarray(y)\n",
    "\n",
    "    return X, y\n",
    "        "
   ]
  },
  {
   "cell_type": "markdown",
   "metadata": {},
   "source": [
    "Let's use a test sequence to verufy that our transformation functions perform as expected."
   ]
  },
  {
   "cell_type": "code",
   "execution_count": 30,
   "metadata": {
    "collapsed": true
   },
   "outputs": [],
   "source": [
    "test_sequences = [[50, 32, 58], [48, 54, 58, 81, 35, 28, 68, 9], [51, 33, 52, 6, 87, 53, 86, 13]]"
   ]
  },
  {
   "cell_type": "code",
   "execution_count": 31,
   "metadata": {},
   "outputs": [
    {
     "name": "stdout",
     "output_type": "stream",
     "text": [
      "--- Original ----\n",
      "[[50, 32, 58], [48, 54, 58, 81, 35, 28, 68, 9], [51, 33, 52, 6, 87, 53, 86, 13]]\n",
      "--- Observations ----\n",
      "[array([50, 32]) array([50]) array([48, 54, 58, 81, 35, 28, 68])\n",
      " array([48, 54, 58, 81, 35, 28]) array([48, 54, 58, 81, 35])\n",
      " array([48, 54, 58, 81]) array([48, 54, 58]) array([48, 54]) array([48])\n",
      " array([51, 33, 52,  6, 87, 53, 86]) array([51, 33, 52,  6, 87, 53])\n",
      " array([51, 33, 52,  6, 87]) array([51, 33, 52,  6]) array([51, 33, 52])\n",
      " array([51, 33]) array([51])]\n",
      "--- Labels ----\n",
      "[58 32  9 68 28 35 81 58 54 13 86 53 87  6 52 33]\n",
      "Sets of length: 16\n"
     ]
    }
   ],
   "source": [
    "X,y = enhance_sequences(test_sequences)\n",
    "print ('--- Original ----')\n",
    "print(test_sequences)\n",
    "print ('--- Observations ----')\n",
    "print (X)\n",
    "print ('--- Labels ----')\n",
    "print (y)\n",
    "\n",
    "# Verify that there are the same number of elements in each list.\n",
    "assert len(X) == len(y)\n",
    "print('Sets of length: ' + str(len(X)))"
   ]
  },
  {
   "cell_type": "markdown",
   "metadata": {},
   "source": [
    "We have split our search sequences into a single element that will be used as training labels (y) and a set of sequences with the las element to the right removed (X) Now we will be able to train a supervised model passing the y set as classes to predict. Therefore our model will learn what token (city searched) comes after a sequence of cities. This encoding will encode the order and the precesnce of each one of the searched cities into a sequence of integers (soon to be hot encoded).\n",
    "Now we need to pad our sequences so they are all the same length. Let's pad them to the maximum length of the sequences in set X."
   ]
  },
  {
   "cell_type": "markdown",
   "metadata": {},
   "source": [
    "So the maximum length of all sequences in set X is 10. This makes sense since we had realized that the overal maximum length was 11. After removing the last entry it makes sense now that the max length is 10.\n",
    "Lets pad our sequences so that they are all the same length. We will fill them up with zeros until they are the size of the maximum length of all the sequences."
   ]
  },
  {
   "cell_type": "code",
   "execution_count": 32,
   "metadata": {},
   "outputs": [],
   "source": [
    "from keras.preprocessing.sequence import pad_sequences;\n",
    "\n",
    "def pad_sequece(x, length=None):\n",
    "    \"\"\"\n",
    "    Pad x\n",
    "    :param x: List of sequences.\n",
    "    :param length: Length to pad the sequence to.  If None, use length of longest sequence in x.\n",
    "    :return: Padded numpy array of sequences\n",
    "    \"\"\"\n",
    "    return pad_sequences(x,maxlen=length,padding='post')"
   ]
  },
  {
   "cell_type": "code",
   "execution_count": 33,
   "metadata": {},
   "outputs": [
    {
     "name": "stdout",
     "output_type": "stream",
     "text": [
      "Sequences of length: 8\n",
      "[[50 32 58  0  0  0  0  0]\n",
      " [48 54 58 81 35 28 68  9]\n",
      " [51 33 52  6 87 53 86 13]]\n",
      "Sequences of length: 5\n",
      "[[50 32 58  0  0]\n",
      " [81 35 28 68  9]\n",
      " [ 6 87 53 86 13]]\n"
     ]
    }
   ],
   "source": [
    "padded = pad_sequece(test_sequences)\n",
    "assert len(padded[0]) == len(max(test_sequences)), 'Dimensions are not equal'\n",
    "print('Sequences of length: ' + str(len(padded[0])))\n",
    "print(padded)\n",
    "\n",
    "fixed_size = 5\n",
    "padded = pad_sequece(test_sequences, fixed_size)\n",
    "assert len(padded[0]) == fixed_size, 'Dimensions are not equal'\n",
    "print('Sequences of length: ' + str(len(padded[0])))\n",
    "print(padded)"
   ]
  },
  {
   "cell_type": "markdown",
   "metadata": {},
   "source": [
    "Our padding method seems to work. Let's now write a couple of methods to hot encode a matrix of sequences. Let's rememeber that hot encoding is the process of assigining an integer a vector of zeros of length D whith the "
   ]
  },
  {
   "cell_type": "code",
   "execution_count": 34,
   "metadata": {
    "collapsed": true
   },
   "outputs": [],
   "source": [
    "def one_hot_encode_matrix(sequences, dimension):\n",
    "    processed_seqs = []\n",
    "    for seq in sequences:\n",
    "        processed_seqs.append(one_hot_encode_list(seq, dimension))\n",
    "    return processed_seqs\n",
    "\n",
    "def one_hot_encode_list(seq, dimension):\n",
    "    encoded_sequences = []\n",
    "    for token in seq:\n",
    "        encoded = [0]*dimension\n",
    "        encoded[token-1] = 1\n",
    "        encoded_sequences.append(encoded)\n",
    "        \n",
    "    return encoded_sequences"
   ]
  },
  {
   "cell_type": "code",
   "execution_count": 35,
   "metadata": {},
   "outputs": [
    {
     "name": "stdout",
     "output_type": "stream",
     "text": [
      "50 : [0, 0, 0, 0, 0, 0, 0, 0, 0, 0, 0, 0, 0, 0, 0, 0, 0, 0, 0, 0, 0, 0, 0, 0, 0, 0, 0, 0, 0, 0, 0, 0, 0, 0, 0, 0, 0, 0, 0, 0, 0, 0, 0, 0, 0, 0, 0, 0, 0, 1, 0, 0, 0, 0, 0, 0, 0, 0, 0, 0, 0, 0, 0, 0, 0, 0, 0, 0, 0, 0, 0, 0, 0, 0, 0, 0, 0, 0, 0, 0, 0, 0, 0, 0, 0, 0, 0, 0, 0]\n"
     ]
    }
   ],
   "source": [
    "encoded_sequences = one_hot_encode_list(test_sequences[0], len(city_list))\n",
    "assert len(test_sequences[0]) == len(encoded_sequences)\n",
    "assert encoded_sequences[0][test_sequences[0][0]-1] == 1\n",
    "\n",
    "print(str(test_sequences[0][0]) + ' : ' + str(encoded_sequences[0]))"
   ]
  },
  {
   "cell_type": "code",
   "execution_count": 36,
   "metadata": {
    "collapsed": true
   },
   "outputs": [],
   "source": [
    "encoded = one_hot_encode_matrix(test_sequences, len(city_list))\n",
    "\n",
    "# Verify that there is one 1 in each encoded vector\n",
    "assert sum(encoded[0][0]) == 1\n",
    "# Verify that the length of the list of vectors equals the length of the original list.\n",
    "assert len(encoded) == len(test_sequences), 'Somethings wrong with the size of the list'\n",
    "# Verify that the values are properli encoded, ie; verify that the one is at the right place\n",
    "assert test_sequences[0][0] == np.argmax(encoded[0][0]) + 1 , 'The \"1\" is at the wrong place'\n",
    "# Verify that the length of each hot encoded vector is equal to the length of the list of cities.\n",
    "assert len(encoded[0][0]) == len(city_list), 'Something wrong with the length of the encoded vectors'"
   ]
  },
  {
   "cell_type": "markdown",
   "metadata": {},
   "source": [
    "This is how our data will look when we put it into the model. Each observation sequence will be a list of binary vectors of length 89 with only one entry set to one which encodes the class (city) that each vector represents.\n",
    "\n",
    "This is the way our LSTM will be able to get the most of our data.\n"
   ]
  },
  {
   "cell_type": "markdown",
   "metadata": {},
   "source": [
    "### Processing pipeline\n",
    "\n",
    "Let's now combine the methods that we wrote above into one single method that we will then use to process all our data and have it ready for modeling."
   ]
  },
  {
   "cell_type": "code",
   "execution_count": 37,
   "metadata": {
    "collapsed": true
   },
   "outputs": [],
   "source": [
    "def preprocess(sequences, max_seq_length):\n",
    "    # Step 1: Enhance sequences\n",
    "    X_tokens,y_tokens = enhance_sequences(sequences)\n",
    "    assert len(X_tokens)  == len(y_tokens) \n",
    "    print('Working with an original of  ' + str(len(sequences)) + ' sequences')\n",
    "    print('Working with ' + str(len(X_tokens)) + ' prepared sequences')\n",
    "    print(y_tokens)\n",
    "    assert min(y_tokens) == 1\n",
    "    assert max(y_tokens) == 89\n",
    "    \n",
    "    # Step 2 : Padd the sequences to the number of classes\n",
    "    X_padded = pad_sequece(X_tokens, max_seq_length)\n",
    "    # Verify that the length of each encoded vector is the same as the maximum sequence length\n",
    "    assert len(X_padded[0]) == max_seq_length\n",
    "    print('Padded sequences of length: ' + str(len(X_padded[0])))\n",
    "    # Verify that length of list is preserved.\n",
    "    assert len(X_padded) == len(X_tokens)  \n",
    "    print(X_padded[0])\n",
    "    \n",
    "    # Step 3 : Hot encode the observations and  the labels \n",
    "    X = one_hot_encode_matrix(X_padded, len(city_list))\n",
    "    y = one_hot_encode_list(y_tokens, len(city_list))\n",
    "    \n",
    "    return X, y"
   ]
  },
  {
   "cell_type": "markdown",
   "metadata": {},
   "source": [
    "Lets define a method to split our data into testing and training sets. "
   ]
  },
  {
   "cell_type": "code",
   "execution_count": 38,
   "metadata": {
    "collapsed": true
   },
   "outputs": [],
   "source": [
    "# split our dataset into training / testing sets\n",
    "\n",
    "def split_data(X, y, train_test_split):\n",
    "    # partition the training set\n",
    "    X_train = X[:train_test_split]\n",
    "    y_train = np.asarray(y[:train_test_split])\n",
    "\n",
    "    assert len(X_train) == len(y_train)\n",
    "    print('Training samples :' + str(len(X_train)))\n",
    "\n",
    "    # keep the last chunk for testing\n",
    "    X_test = X[train_test_split:]\n",
    "    y_test = np.asarray(y[train_test_split:])\n",
    "\n",
    "    assert len(X_test) == len(y_test)\n",
    "    print('Testing samples :' + str(len(X_test)))\n",
    "\n",
    "    # Reshape the data to be able to put it into Keras' LSTM module\n",
    "    X_train = np.asarray(np.reshape(X_train, (len(X_train), max_seq_length, len(city_list))))\n",
    "    X_test = np.asarray(np.reshape(X_test, (len(X_test), max_seq_length, len(city_list))))\n",
    "\n",
    "    # Reshape labels to work with Keras's sparse_categorical_crossentropy \n",
    "    y_train = np.asarray(np.reshape(y_train, (y_train.shape[0], len(city_list))))\n",
    "    y_test = np.asarray(np.reshape(y_test, (y_test.shape[0], len(city_list))))\n",
    "    \n",
    "    return X_train, X_test, y_train, y_test"
   ]
  },
  {
   "cell_type": "markdown",
   "metadata": {},
   "source": [
    "## Model\n",
    "\n",
    "Let's create a method to define our model's architecture. Inside this method we will decide which layers to use for our Neural Network."
   ]
  },
  {
   "cell_type": "code",
   "execution_count": 39,
   "metadata": {
    "collapsed": true
   },
   "outputs": [],
   "source": [
    "from keras.models import Sequential, model_from_json\n",
    "from keras.layers import LSTM, Dense, Dropout\n",
    "import keras"
   ]
  },
  {
   "cell_type": "code",
   "execution_count": 40,
   "metadata": {
    "collapsed": true
   },
   "outputs": [],
   "source": [
    "def create_model(optimizer):\n",
    "    \n",
    "#     # Alternate architecture\n",
    "#     model = Sequential()\n",
    "#     model.add(LSTM(units=160, input_shape=(max_seq_length, len(city_list))))\n",
    "#     model.add(Dense(units=len(city_list), activation='softmax'))\n",
    "\n",
    "    model = Sequential()\n",
    "    model.add(LSTM(units=100, input_shape=(max_seq_length, len(city_list)), return_sequences=True))\n",
    "    model.add(Dropout(0.2))\n",
    "    model.add(LSTM(units=100))\n",
    "    model.add(Dense(units=len(city_list), activation='softmax'))\n",
    "\n",
    "    # compile model --> make sure initialized optimizer and callbacks - as defined above - are used\n",
    "    model.compile(loss='categorical_crossentropy', optimizer=optimizer)\n",
    "\n",
    "    model.summary()\n",
    "    \n",
    "    return model"
   ]
  },
  {
   "cell_type": "markdown",
   "metadata": {},
   "source": [
    "Let's write a method to save the results of our training to disk so we can look back at it later."
   ]
  },
  {
   "cell_type": "code",
   "execution_count": 41,
   "metadata": {
    "collapsed": true
   },
   "outputs": [],
   "source": [
    "def save_model(model, model_history, path):\n",
    "    if not os.path.exists(path):\n",
    "        os.makedirs(path)\n",
    "\n",
    "    # Save model architecture\n",
    "    with open(path + '/' + 'model_architecture.json', 'w') as json_file:\n",
    "        json.dump(model.to_json(), json_file)\n",
    "        print('Saving model architecture at path:' + path)\n",
    "\n",
    "\n",
    "    # Save model weigths\n",
    "    model.save_weights(path + '/' + 'model_weights.hdf5')\n",
    "    print('Saving model weigths at path:' + path)\n",
    "    \n",
    "    # Save model loss\n",
    "    with open(path + '/' + 'loss.json', 'w') as json_file:\n",
    "        json.dump({'loss':model_history.history['loss'],'val_loss':model_history.history['val_loss']}, json_file)\n",
    "        print('Saving model loss at path:' + path)"
   ]
  },
  {
   "cell_type": "code",
   "execution_count": 42,
   "metadata": {
    "collapsed": true
   },
   "outputs": [],
   "source": [
    "# Plot training & validation loss values\n",
    "def plot_model_loss(loss, val_loss):\n",
    "    plt.figure(figsize=(15,7));\n",
    "    plt.plot(loss)\n",
    "    plt.plot(val_loss)\n",
    "    plt.title('Model loss')\n",
    "    plt.ylabel('Loss')\n",
    "    plt.xlabel('Epoch')\n",
    "    plt.legend(['Train', 'Test'], loc='upper left')\n",
    "    plt.show()"
   ]
  },
  {
   "cell_type": "markdown",
   "metadata": {},
   "source": [
    "Let's create a method that gorups all the building blocks that we have been building in this notebook. The method will receive the relevant sequences, the length of the city list (number of classes) and a path. It wil process the data, train the model and save the results to disk so we can use them later."
   ]
  },
  {
   "cell_type": "code",
   "execution_count": 43,
   "metadata": {
    "collapsed": true
   },
   "outputs": [],
   "source": [
    "def model_training_peipeline(all_relevant_sequences, max_seq_length, path):\n",
    "    # Process all the relevant sequences\n",
    "    X, y = preprocess(all_relevant_sequences, max_seq_length)\n",
    "    # Chose where to split the data\n",
    "    train_test_split = int(len(X)*0.8)\n",
    "    X_train, X_test, y_train, y_test = split_data(X, y, train_test_split)\n",
    "    # initialize optimizer\n",
    "    optimizer = keras.optimizers.Adam(lr=0.001, beta_1=0.9, beta_2=0.999, amsgrad=False)\n",
    "    # optimizer = keras.optimizers.RMSprop(lr=0.01, rho=0.9, epsilon=1e-08, decay=0.0)\n",
    "    model = create_model(optimizer)\n",
    "    # train the model and save a reference to its history so we can use it later.\n",
    "    model_history = model.fit(X_train, y_train, batch_size=128, epochs=100,verbose = 1, validation_split=0.2)\n",
    "\n",
    "    save_model(model, model_history, path)\n",
    "    \n",
    "    return model, model_history, X_test, y_test\n"
   ]
  },
  {
   "cell_type": "code",
   "execution_count": 44,
   "metadata": {},
   "outputs": [
    {
     "name": "stdout",
     "output_type": "stream",
     "text": [
      "Maximum length of observed sequences : 10\n"
     ]
    }
   ],
   "source": [
    "# all_relevant_sequences = df_relevant_sequences['city_integer_sequence'].values\n",
    "# max_seq_length = max([len(seq) for seq in all_relevant_sequences]) - 1\n",
    "# print('Maximum length of observed sequences : ' + str(max_seq_length))"
   ]
  },
  {
   "cell_type": "markdown",
   "metadata": {},
   "source": [
    "### Train model using all the data points \n",
    "\n",
    "Let's train an LSTM model using all the data points  with search seqeunces of length > 1. Let's see how it goes."
   ]
  },
  {
   "cell_type": "code",
   "execution_count": 38,
   "metadata": {
    "scrolled": true
   },
   "outputs": [
    {
     "name": "stdout",
     "output_type": "stream",
     "text": [
      "Maximum length of observed sequences : 10\n",
      "Working with an original of  9351 sequences\n",
      "Working with 12994 prepared sequences\n",
      "[52 59 33 ... 84 48 51]\n",
      "Padded sequences of length: 10\n",
      "[51  0  0  0  0  0  0  0  0  0]\n",
      "Training samples :10395\n",
      "Testing samples :2599\n",
      "_________________________________________________________________\n",
      "Layer (type)                 Output Shape              Param #   \n",
      "=================================================================\n",
      "lstm_3 (LSTM)                (None, 10, 100)           76000     \n",
      "_________________________________________________________________\n",
      "dropout_2 (Dropout)          (None, 10, 100)           0         \n",
      "_________________________________________________________________\n",
      "lstm_4 (LSTM)                (None, 100)               80400     \n",
      "_________________________________________________________________\n",
      "dense_2 (Dense)              (None, 89)                8989      \n",
      "=================================================================\n",
      "Total params: 165,389\n",
      "Trainable params: 165,389\n",
      "Non-trainable params: 0\n",
      "_________________________________________________________________\n",
      "Train on 8316 samples, validate on 2079 samples\n",
      "Epoch 1/100\n",
      "8316/8316 [==============================] - 10s 1ms/step - loss: 3.8904 - val_loss: 3.6694\n",
      "Epoch 2/100\n",
      "8316/8316 [==============================] - 7s 847us/step - loss: 3.5551 - val_loss: 3.4687\n",
      "Epoch 3/100\n",
      "8316/8316 [==============================] - 7s 847us/step - loss: 3.2312 - val_loss: 3.0572\n",
      "Epoch 4/100\n",
      "8316/8316 [==============================] - 9s 1ms/step - loss: 2.9073 - val_loss: 2.8423\n",
      "Epoch 5/100\n",
      "8316/8316 [==============================] - 9s 1ms/step - loss: 2.7392 - val_loss: 2.7648\n",
      "Epoch 6/100\n",
      "8316/8316 [==============================] - 7s 863us/step - loss: 2.6576 - val_loss: 2.6945\n",
      "Epoch 7/100\n",
      "8316/8316 [==============================] - 8s 920us/step - loss: 2.6000 - val_loss: 2.6339\n",
      "Epoch 8/100\n",
      "8316/8316 [==============================] - 8s 1ms/step - loss: 2.5614 - val_loss: 2.5959\n",
      "Epoch 9/100\n",
      "8316/8316 [==============================] - 7s 857us/step - loss: 2.5244 - val_loss: 2.5649\n",
      "Epoch 10/100\n",
      "8316/8316 [==============================] - 8s 980us/step - loss: 2.4778 - val_loss: 2.5327\n",
      "Epoch 11/100\n",
      "8316/8316 [==============================] - 8s 904us/step - loss: 2.4355 - val_loss: 2.4783\n",
      "Epoch 12/100\n",
      "8316/8316 [==============================] - 8s 1ms/step - loss: 2.3876 - val_loss: 2.4385\n",
      "Epoch 13/100\n",
      "8316/8316 [==============================] - 7s 871us/step - loss: 2.3518 - val_loss: 2.4168\n",
      "Epoch 14/100\n",
      "8316/8316 [==============================] - 7s 853us/step - loss: 2.3294 - val_loss: 2.4397\n",
      "Epoch 15/100\n",
      "8316/8316 [==============================] - 9s 1ms/step - loss: 2.3352 - val_loss: 2.3960\n",
      "Epoch 16/100\n",
      "8316/8316 [==============================] - 8s 931us/step - loss: 2.3013 - val_loss: 2.3677\n",
      "Epoch 17/100\n",
      "8316/8316 [==============================] - 8s 998us/step - loss: 2.2743 - val_loss: 2.3469\n",
      "Epoch 18/100\n",
      "8316/8316 [==============================] - 8s 917us/step - loss: 2.2527 - val_loss: 2.3349\n",
      "Epoch 19/100\n",
      "8316/8316 [==============================] - 7s 823us/step - loss: 2.2370 - val_loss: 2.3294\n",
      "Epoch 20/100\n",
      "8316/8316 [==============================] - 8s 1ms/step - loss: 2.2302 - val_loss: 2.3150\n",
      "Epoch 21/100\n",
      "8316/8316 [==============================] - 7s 850us/step - loss: 2.2098 - val_loss: 2.3114\n",
      "Epoch 22/100\n",
      "8316/8316 [==============================] - 9s 1ms/step - loss: 2.2093 - val_loss: 2.2982\n",
      "Epoch 23/100\n",
      "8316/8316 [==============================] - 7s 829us/step - loss: 2.1988 - val_loss: 2.2890\n",
      "Epoch 24/100\n",
      "8316/8316 [==============================] - 8s 928us/step - loss: 2.1900 - val_loss: 2.2748\n",
      "Epoch 25/100\n",
      "8316/8316 [==============================] - 11s 1ms/step - loss: 2.1809 - val_loss: 2.2922\n",
      "Epoch 26/100\n",
      "8316/8316 [==============================] - 8s 998us/step - loss: 2.1746 - val_loss: 2.2624\n",
      "Epoch 27/100\n",
      "8316/8316 [==============================] - 6s 756us/step - loss: 2.1637 - val_loss: 2.2480\n",
      "Epoch 28/100\n",
      "8316/8316 [==============================] - 6s 747us/step - loss: 2.1518 - val_loss: 2.2588\n",
      "Epoch 29/100\n",
      "8316/8316 [==============================] - 6s 774us/step - loss: 2.1439 - val_loss: 2.2370\n",
      "Epoch 30/100\n",
      "8316/8316 [==============================] - 7s 812us/step - loss: 2.1324 - val_loss: 2.2435\n",
      "Epoch 31/100\n",
      "8316/8316 [==============================] - 7s 835us/step - loss: 2.1278 - val_loss: 2.2320\n",
      "Epoch 32/100\n",
      "8316/8316 [==============================] - 7s 847us/step - loss: 2.1165 - val_loss: 2.2223\n",
      "Epoch 33/100\n",
      "8316/8316 [==============================] - 6s 759us/step - loss: 2.1133 - val_loss: 2.2253\n",
      "Epoch 34/100\n",
      "8316/8316 [==============================] - 7s 814us/step - loss: 2.1097 - val_loss: 2.2222\n",
      "Epoch 35/100\n",
      "8316/8316 [==============================] - 7s 897us/step - loss: 2.1066 - val_loss: 2.2091\n",
      "Epoch 36/100\n",
      "8316/8316 [==============================] - 8s 991us/step - loss: 2.0934 - val_loss: 2.2096\n",
      "Epoch 37/100\n",
      "8316/8316 [==============================] - 7s 876us/step - loss: 2.0908 - val_loss: 2.2153\n",
      "Epoch 38/100\n",
      "8316/8316 [==============================] - 7s 805us/step - loss: 2.0942 - val_loss: 2.2150\n",
      "Epoch 39/100\n",
      "8316/8316 [==============================] - 11s 1ms/step - loss: 2.0842 - val_loss: 2.1997\n",
      "Epoch 40/100\n",
      "8316/8316 [==============================] - 7s 878us/step - loss: 2.0753 - val_loss: 2.1933\n",
      "Epoch 41/100\n",
      "8316/8316 [==============================] - 7s 883us/step - loss: 2.0727 - val_loss: 2.1922\n",
      "Epoch 42/100\n",
      "8316/8316 [==============================] - 7s 845us/step - loss: 2.0670 - val_loss: 2.1834\n",
      "Epoch 43/100\n",
      "8316/8316 [==============================] - 6s 770us/step - loss: 2.0611 - val_loss: 2.1884\n",
      "Epoch 44/100\n",
      "8316/8316 [==============================] - 7s 883us/step - loss: 2.0579 - val_loss: 2.1849\n",
      "Epoch 45/100\n",
      "8316/8316 [==============================] - 8s 1ms/step - loss: 2.0607 - val_loss: 2.1808\n",
      "Epoch 46/100\n",
      "8316/8316 [==============================] - 7s 831us/step - loss: 2.0501 - val_loss: 2.1784\n",
      "Epoch 47/100\n",
      "8316/8316 [==============================] - 7s 898us/step - loss: 2.0465 - val_loss: 2.1738\n",
      "Epoch 48/100\n",
      "8316/8316 [==============================] - 7s 832us/step - loss: 2.0463 - val_loss: 2.1767\n",
      "Epoch 49/100\n",
      "8316/8316 [==============================] - 6s 780us/step - loss: 2.0419 - val_loss: 2.1648\n",
      "Epoch 50/100\n",
      "8316/8316 [==============================] - 7s 783us/step - loss: 2.0372 - val_loss: 2.1648\n",
      "Epoch 51/100\n",
      "8316/8316 [==============================] - 7s 880us/step - loss: 2.0341 - val_loss: 2.1685\n",
      "Epoch 52/100\n",
      "8316/8316 [==============================] - 8s 951us/step - loss: 2.0392 - val_loss: 2.1745\n",
      "Epoch 53/100\n",
      "8316/8316 [==============================] - 7s 806us/step - loss: 2.0303 - val_loss: 2.1581\n",
      "Epoch 54/100\n",
      "8316/8316 [==============================] - 8s 914us/step - loss: 2.0228 - val_loss: 2.1551\n",
      "Epoch 55/100\n",
      "8316/8316 [==============================] - 7s 837us/step - loss: 2.0245 - val_loss: 2.1578\n",
      "Epoch 56/100\n",
      "8316/8316 [==============================] - 8s 938us/step - loss: 2.0199 - val_loss: 2.1652\n",
      "Epoch 57/100\n",
      "8316/8316 [==============================] - 7s 877us/step - loss: 2.0221 - val_loss: 2.1659\n",
      "Epoch 58/100\n",
      "8316/8316 [==============================] - 7s 883us/step - loss: 2.0140 - val_loss: 2.1615\n",
      "Epoch 59/100\n",
      "8316/8316 [==============================] - 8s 964us/step - loss: 2.0129 - val_loss: 2.1601\n",
      "Epoch 60/100\n",
      "8316/8316 [==============================] - 9s 1ms/step - loss: 2.0160 - val_loss: 2.1608\n",
      "Epoch 61/100\n",
      "8316/8316 [==============================] - 9s 1ms/step - loss: 2.0104 - val_loss: 2.1606\n",
      "Epoch 62/100\n",
      "8316/8316 [==============================] - 8s 957us/step - loss: 2.0151 - val_loss: 2.1824\n",
      "Epoch 63/100\n",
      "8316/8316 [==============================] - 8s 915us/step - loss: 2.0179 - val_loss: 2.1599\n",
      "Epoch 64/100\n",
      "8316/8316 [==============================] - 8s 943us/step - loss: 2.0090 - val_loss: 2.1672\n",
      "Epoch 65/100\n",
      "8316/8316 [==============================] - 8s 970us/step - loss: 2.0156 - val_loss: 2.1511\n",
      "Epoch 66/100\n",
      "8316/8316 [==============================] - 8s 927us/step - loss: 2.0031 - val_loss: 2.1487\n",
      "Epoch 67/100\n",
      "8316/8316 [==============================] - 7s 844us/step - loss: 2.0012 - val_loss: 2.1445\n",
      "Epoch 68/100\n",
      "8316/8316 [==============================] - 8s 1ms/step - loss: 1.9974 - val_loss: 2.1575\n",
      "Epoch 69/100\n",
      "8316/8316 [==============================] - 7s 876us/step - loss: 2.0066 - val_loss: 2.1494\n",
      "Epoch 70/100\n",
      "8316/8316 [==============================] - 9s 1ms/step - loss: 1.9953 - val_loss: 2.1521\n",
      "Epoch 71/100\n",
      "8316/8316 [==============================] - 8s 919us/step - loss: 1.9970 - val_loss: 2.1528\n",
      "Epoch 72/100\n",
      "8316/8316 [==============================] - 7s 862us/step - loss: 1.9885 - val_loss: 2.1417\n",
      "Epoch 73/100\n",
      "8316/8316 [==============================] - 7s 826us/step - loss: 1.9921 - val_loss: 2.1561\n",
      "Epoch 74/100\n",
      "8316/8316 [==============================] - 7s 824us/step - loss: 1.9933 - val_loss: 2.1464\n",
      "Epoch 75/100\n",
      "8316/8316 [==============================] - 7s 794us/step - loss: 1.9838 - val_loss: 2.1511\n",
      "Epoch 76/100\n",
      "8316/8316 [==============================] - 7s 839us/step - loss: 1.9862 - val_loss: 2.1524\n",
      "Epoch 77/100\n",
      "8316/8316 [==============================] - 7s 817us/step - loss: 1.9899 - val_loss: 2.1421\n",
      "Epoch 78/100\n",
      "8316/8316 [==============================] - 7s 842us/step - loss: 1.9886 - val_loss: 2.1542\n",
      "Epoch 79/100\n",
      "8316/8316 [==============================] - 8s 1ms/step - loss: 1.9834 - val_loss: 2.1498\n",
      "Epoch 80/100\n",
      "8316/8316 [==============================] - 8s 1ms/step - loss: 1.9815 - val_loss: 2.1461\n",
      "Epoch 81/100\n",
      "8316/8316 [==============================] - 10s 1ms/step - loss: 1.9843 - val_loss: 2.1407\n",
      "Epoch 82/100\n",
      "8316/8316 [==============================] - 10s 1ms/step - loss: 1.9800 - val_loss: 2.1394\n",
      "Epoch 83/100\n",
      "8316/8316 [==============================] - 8s 1ms/step - loss: 1.9809 - val_loss: 2.1461\n",
      "Epoch 84/100\n",
      "8316/8316 [==============================] - 7s 897us/step - loss: 1.9754 - val_loss: 2.1329\n",
      "Epoch 85/100\n",
      "8316/8316 [==============================] - 7s 848us/step - loss: 1.9736 - val_loss: 2.1479\n",
      "Epoch 86/100\n",
      "8316/8316 [==============================] - 8s 927us/step - loss: 1.9701 - val_loss: 2.1416\n",
      "Epoch 87/100\n",
      "8316/8316 [==============================] - 8s 974us/step - loss: 1.9700 - val_loss: 2.1446\n",
      "Epoch 88/100\n",
      "8316/8316 [==============================] - 8s 1ms/step - loss: 1.9698 - val_loss: 2.1640\n",
      "Epoch 89/100\n",
      "8316/8316 [==============================] - 7s 809us/step - loss: 1.9729 - val_loss: 2.1569\n",
      "Epoch 90/100\n",
      "8316/8316 [==============================] - 7s 847us/step - loss: 1.9730 - val_loss: 2.1468\n",
      "Epoch 91/100\n",
      "8316/8316 [==============================] - 7s 881us/step - loss: 1.9728 - val_loss: 2.1490\n",
      "Epoch 92/100\n",
      "8316/8316 [==============================] - 7s 849us/step - loss: 1.9683 - val_loss: 2.1451\n",
      "Epoch 93/100\n",
      "8316/8316 [==============================] - 7s 894us/step - loss: 1.9728 - val_loss: 2.1422\n",
      "Epoch 94/100\n",
      "8316/8316 [==============================] - 8s 914us/step - loss: 1.9645 - val_loss: 2.1446\n",
      "Epoch 95/100\n",
      "8316/8316 [==============================] - 7s 849us/step - loss: 1.9636 - val_loss: 2.1379\n",
      "Epoch 96/100\n",
      "8316/8316 [==============================] - 7s 842us/step - loss: 1.9609 - val_loss: 2.1456\n",
      "Epoch 97/100\n",
      "8316/8316 [==============================] - 8s 916us/step - loss: 1.9596 - val_loss: 2.1355\n",
      "Epoch 98/100\n",
      "8316/8316 [==============================] - 7s 850us/step - loss: 1.9659 - val_loss: 2.1392\n",
      "Epoch 99/100\n",
      "8316/8316 [==============================] - 7s 832us/step - loss: 1.9795 - val_loss: 2.1621\n",
      "Epoch 100/100\n",
      "8316/8316 [==============================] - 7s 872us/step - loss: 1.9634 - val_loss: 2.1559\n",
      "Saving model architecture at path:models/all_data/2019-11-12T215056\n",
      "Saving model weigths at path:models/all_data/2019-11-12T215056\n",
      "Saving model loss at path:models/all_data/2019-11-12T215056\n"
     ]
    },
    {
     "data": {
      "image/png": "[encoded data removed]",
      "text/plain": [
       "<matplotlib.figure.Figure at 0x12d30be80>"
      ]
     },
     "metadata": {},
     "output_type": "display_data"
    }
   ],
   "source": [
    "all_relevant_sequences = df_relevant_sequences['city_integer_sequence'].values\n",
    "\n",
    "max_seq_length = max([len(seq) for seq in all_relevant_sequences]) - 1\n",
    "print('Maximum length of observed sequences : ' + str(max_seq_length))\n",
    "\n",
    "# Save the time at which training starts so we can use it to create the paths in which we will store the model details.\n",
    "training_start_time = np.datetime64('now')\n",
    "\n",
    "#Create a path to store model details\n",
    "path = 'models/all_data/{}'.format(str(training_start_time).replace(':', ''))\n",
    "\n",
    "model, model_history, X_test, y_test = model_training_peipeline(all_relevant_sequences, max_seq_length, path)\n",
    "plot_model_loss(model_history.history['loss'], model_history.history['val_loss'])"
   ]
  },
  {
   "cell_type": "markdown",
   "metadata": {},
   "source": [
    "<a id='cell_second_question'></a>\n",
    "\n",
    "## Answer to second question \n",
    "\n",
    "***Question***: Given a sequence of searched cities, find the most likely city or cities to be also\n",
    "searched next, within the same session. Your code should include a function that takes\n",
    "a list of 0 to n cities and returns the most likely next city or cities. Keep in mind that the\n",
    "goal is to call this function each time a user performs a search. It should therefore be fast\n",
    "to execute."
   ]
  },
  {
   "cell_type": "markdown",
   "metadata": {},
   "source": [
    "We have created a method called predict_most_likely_cities that will receive a sequence of cities and transform them accordingly in order to be able to put it into the loadad model and do a prediction. The method will explore the 5 highest ranking predictions for each data point and return us the ones that are not in the original sequence. This way we can be sure that the returned cities will allways be relevant. The returned sequences will be sorted in order of relevance from left to right."
   ]
  },
  {
   "cell_type": "code",
   "execution_count": 45,
   "metadata": {
    "collapsed": true
   },
   "outputs": [],
   "source": [
    "def predict_most_likely_cities(model,input_cities,number_of_most_relevant_predictions,max_seq_length, verbose=False):\n",
    "    \"\"\"\n",
    "    Predict most likely cities to be searched next given a sequence.\n",
    "    :param model: Model to make prediction with.\n",
    "    :param input_cities: Sequence of cities to be used as an observation.\n",
    "    :param number_of_most_relevant_predictions: How many highest ranking predictions to consider when predicting\n",
    "    :param max_seq_length: Maximum length of sequences\n",
    "    :return: List of most likely cities to be searched next.\n",
    "    \"\"\"\n",
    "    input_tokens = tokenize_city_sequence(input_cities, city_list)\n",
    "    padded = pad_sequece([input_tokens], length = max_seq_length)\n",
    "    \n",
    "    if verbose:\n",
    "        print('Input city names: ' + str(input_cities))\n",
    "        print('Input city tokens: ' + str(input_tokens))\n",
    "        print('Padded  sequence: ' + str(padded))\n",
    "        \n",
    "    # Hot encode the padded input sequence\n",
    "    X_test = one_hot_encode_matrix(padded, len(city_list))\n",
    "    # Reshape it to be put into the model\n",
    "    X_test = np.asarray(np.reshape(X_test, (len(X_test), max_seq_length, len(city_list))))\n",
    "    \n",
    "    # Make this round's prediction\n",
    "    print('Prediction time:')\n",
    "    test_predict = model.predict(X_test,verbose = True)[0]\n",
    "    \n",
    "    ordered_predictions = extract_most_relevant_predictions(test_predict, number_of_most_relevant_predictions, verbose)\n",
    "    decoded_predictions = decode_sequence(ordered_predictions, city_list)\n",
    "    \n",
    "    if verbose:\n",
    "        print('Decoded predictions: '+ str(decoded_predictions))\n",
    "        print('----')\n",
    "    \n",
    "    return list(set(decoded_predictions) - set(input_cities))\n"
   ]
  },
  {
   "cell_type": "markdown",
   "metadata": {},
   "source": [
    "Let's grab a couple of sample sequences of city names."
   ]
  },
  {
   "cell_type": "code",
   "execution_count": 46,
   "metadata": {},
   "outputs": [
    {
     "data": {
      "text/plain": [
       "[84, 85, 77, 63, 78, 67]"
      ]
     },
     "execution_count": 46,
     "metadata": {},
     "output_type": "execute_result"
    }
   ],
   "source": [
    "input_city_names = [['Vancouver BC', 'Victoria BC', 'Seattle WA', 'Portland OR', 'Stockton CA', 'Sacramento CA'],\n",
    "                    ['Chicago IL', 'Madison WI', 'Milwaukee WI', 'Fort Wayne IN', 'Toledo OH', 'Detroit MI', 'Cleveland OH', 'Pittsburgh PA'],\n",
    " ['Montreal QC', 'OTTAWA ON', 'Oshawa ON', 'Toronto ON', 'Kitchener ON', 'Hamilton ON', 'Saint Catharines-Niagara ON', 'Buffalo NY'],\n",
    " ['Jacksonville FL', 'Tampa FL, Atlanta GA', 'Birmingham AL', 'Nashville TN', 'Lexington KY', 'Columbus OH']]\n",
    "\n",
    "# Check that the tokenizer works as expected\n",
    "tokenize_city_sequence(input_city_names[0], city_list)"
   ]
  },
  {
   "cell_type": "markdown",
   "metadata": {},
   "source": [
    "Tokenization seems to be working well."
   ]
  },
  {
   "cell_type": "code",
   "execution_count": 47,
   "metadata": {
    "collapsed": true
   },
   "outputs": [],
   "source": [
    "# Load our best ranking model to see how it performs on some random samples\n",
    "path = 'models/all_data/{}'.format('2019-11-11T190647')\n",
    "model_all_data = load_model(path)"
   ]
  },
  {
   "cell_type": "code",
   "execution_count": 48,
   "metadata": {},
   "outputs": [
    {
     "name": "stdout",
     "output_type": "stream",
     "text": [
      "------------------\n",
      "Cities most lilely to be searched next\n",
      "------------------\n",
      "Input city names: ['Chicago IL', 'Madison WI', 'Milwaukee WI', 'Fort Wayne IN', 'Toledo OH', 'Detroit MI', 'Cleveland OH', 'Pittsburgh PA']\n",
      "Input city tokens: [14, 42, 46, 22, 80, 20, 16, 61]\n",
      "Padded  sequence: [[14 42 46 22 80 20 16 61  0  0]]\n",
      "Prediction time:\n",
      "1/1 [==============================] - 0s 162ms/step\n",
      "Indexes of predictions with highest scores: [48 15 19 60 88]\n",
      "Probability distributions: [0.04178939 0.10462419 0.14027882 0.41342157 0.07039583]\n",
      "5 most probable cities: [61 20 16 89 49]\n",
      "Decoded predictions: ['Pittsburgh PA', 'Detroit MI', 'Cleveland OH', 'Windsor ON', 'Nashville TN']\n",
      "----\n",
      "Cities most lilely to be searched next: ['Windsor ON', 'Nashville TN']\n"
     ]
    }
   ],
   "source": [
    "print('------------------')\n",
    "print('Cities most lilely to be searched next')\n",
    "print('------------------')\n",
    "\n",
    "# Set number of highest predictions given by the model to consider\n",
    "number_of_most_relevant_predictions = 5\n",
    "\n",
    "most_probable_cities = predict_most_likely_cities(model_all_data,input_city_names[1], \n",
    "                                                      number_of_most_relevant_predictions,\n",
    "                                                      max_seq_length,\n",
    "                                                      verbose=True)\n",
    "\n",
    "print('Cities most lilely to be searched next: ' + str(most_probable_cities))"
   ]
  },
  {
   "cell_type": "markdown",
   "metadata": {},
   "source": [
    "***So the method above is the answer for the second question***. The prediction itself takes 183 microseconds to execute so if we go with a model like this one in terms of speed we will have no problems.\n",
    "\n",
    "I've also created the method bellow, it that will generate as many new cities as we ask from it. The generated sequence will be the product of taking the original sequence and predicting the next character, then repeating the same iteratively until the length of the predicted sequence is as desired. This method was done for fun and it does not correspond directly yo any of the questions in the pdf document.\n"
   ]
  },
  {
   "cell_type": "code",
   "execution_count": 49,
   "metadata": {
    "collapsed": true
   },
   "outputs": [],
   "source": [
    "def predict_next_cities(model,input_cities,num_to_predict, number_of_most_relevant_predictions, max_seq_length, verbose=False): \n",
    "    predicted_cities = input_cities\n",
    "    for i in range(num_to_predict):\n",
    "        ordered_predictions = predict_most_likely_cities(model,predicted_cities,number_of_most_relevant_predictions, max_seq_length, verbose)\n",
    "        for pred in ordered_predictions:\n",
    "            # Check if the predicted city is already part of the list and skip it if so\n",
    "            if pred in predicted_cities:\n",
    "                continue\n",
    "            else:\n",
    "                predicted_cities.append(pred)\n",
    "                break\n",
    "    \n",
    "    return(predicted_cities)"
   ]
  },
  {
   "cell_type": "code",
   "execution_count": 50,
   "metadata": {},
   "outputs": [
    {
     "name": "stdout",
     "output_type": "stream",
     "text": [
      "------------------\n",
      "Next items in the sequence\n",
      "------------------\n",
      "Input city names: ['Vancouver BC', 'Victoria BC', 'Seattle WA', 'Portland OR', 'Stockton CA']\n",
      "Input city tokens: [84, 85, 77, 63, 78]\n",
      "Padded  sequence: [[84 85 77 63 78  0  0  0  0  0]]\n",
      "Prediction time:\n",
      "1/1 [==============================] - 0s 10ms/step\n",
      "Indexes of predictions with highest scores: [76 20 62 84  9]\n",
      "Probability distributions: [0.03571445 0.1040346  0.40207776 0.2926185  0.12756921]\n",
      "5 most probable cities: [63 85 10 21 77]\n",
      "Decoded predictions: ['Portland OR', 'Victoria BC', 'Calgary AB', 'Edmonton AB', 'Seattle WA']\n",
      "----\n",
      "Input city names: ['Vancouver BC', 'Victoria BC', 'Seattle WA', 'Portland OR', 'Stockton CA', 'Calgary AB']\n",
      "Input city tokens: [84, 85, 77, 63, 78, 10]\n",
      "Padded  sequence: [[84 85 77 63 78 10  0  0  0  0]]\n",
      "Prediction time:\n",
      "1/1 [==============================] - 0s 8ms/step\n",
      "Indexes of predictions with highest scores: [76 84  9 20 62]\n",
      "Probability distributions: [0.031042   0.23907168 0.10904101 0.11646803 0.47257692]\n",
      "5 most probable cities: [63 85 21 10 77]\n",
      "Decoded predictions: ['Portland OR', 'Victoria BC', 'Edmonton AB', 'Calgary AB', 'Seattle WA']\n",
      "----\n",
      "Input city names: ['Vancouver BC', 'Victoria BC', 'Seattle WA', 'Portland OR', 'Stockton CA', 'Calgary AB', 'Edmonton AB']\n",
      "Input city tokens: [84, 85, 77, 63, 78, 10, 21]\n",
      "Padded  sequence: [[84 85 77 63 78 10 21  0  0  0]]\n",
      "Prediction time:\n",
      "1/1 [==============================] - 0s 12ms/step\n",
      "Indexes of predictions with highest scores: [76 84 62 20  9]\n",
      "Probability distributions: [0.03133526 0.22520758 0.48959643 0.11891907 0.10460927]\n",
      "5 most probable cities: [63 85 21 10 77]\n",
      "Decoded predictions: ['Portland OR', 'Victoria BC', 'Edmonton AB', 'Calgary AB', 'Seattle WA']\n",
      "----\n",
      "------------------\n",
      "Predicted sequence : ['Vancouver BC', 'Victoria BC', 'Seattle WA', 'Portland OR', 'Stockton CA', 'Calgary AB', 'Edmonton AB']\n",
      "------------------\n"
     ]
    }
   ],
   "source": [
    "\n",
    "print('------------------')\n",
    "print('Next items in the sequence')\n",
    "print('------------------')\n",
    "# Set number of items to predict\n",
    "num_to_predict = 3\n",
    "predicted_cities = predict_next_cities(model_all_data,input_city_names[0][:-1],\n",
    "                                       num_to_predict,\n",
    "                                       number_of_most_relevant_predictions,\n",
    "                                       max_seq_length,\n",
    "                                       verbose=True)\n",
    "\n",
    "print('------------------')\n",
    "print('Predicted sequence : ' + str(predicted_cities))\n",
    "print('------------------')\n"
   ]
  },
  {
   "cell_type": "markdown",
   "metadata": {},
   "source": [
    "<a id='cell_third_question'></a>\n",
    "\n",
    "## Answer to third question\n",
    "\n",
    "***Question***: There are few features describing each user: user id, joining date and country. Are these\n",
    "features useful to predict the most likely city to be searched? How do they compare to\n",
    "the other features tried in Question 2 (i.e. previous cities searched)? Can the algorithm\n",
    "implemented in Question 2 be improved by making use of these features?\n",
    "\n",
    "***Answer***\n",
    "The features that come grouped with the user dictionary are of great importance since they can be used to characterize our user base into different groups depending for example on the country from which they come. User specific features are always interesting to study since that is how we get to learn from our users and therefore we can customize their experience.\n",
    "\n",
    "In this section we will separate the data by country and train a few models similar to the ones in last section.\n",
    "We will fix the country to be US and train several models using data only for the US for each model, as in the last section we will play around with the hyperparameters and architecture of each model so we end up with several different ones.\n",
    "Since we will be splitting our data we will have less for each country but also the search patterns will be only for one group of users (users from one country). It will be exciting to see how this model performs in comparison to the other ones.\n",
    "\n",
    "\n",
    "### Training a model per country"
   ]
  },
  {
   "cell_type": "code",
   "execution_count": 51,
   "metadata": {},
   "outputs": [
    {
     "data": {
      "text/html": [
       "<div>\n",
       "<style>\n",
       "    .dataframe thead tr:only-child th {\n",
       "        text-align: right;\n",
       "    }\n",
       "\n",
       "    .dataframe thead th {\n",
       "        text-align: left;\n",
       "    }\n",
       "\n",
       "    .dataframe tbody tr th {\n",
       "        vertical-align: top;\n",
       "    }\n",
       "</style>\n",
       "<table border=\"1\" class=\"dataframe\">\n",
       "  <thead>\n",
       "    <tr style=\"text-align: right;\">\n",
       "      <th></th>\n",
       "      <th>session_id</th>\n",
       "      <th>unix_timestamp</th>\n",
       "      <th>cities</th>\n",
       "      <th>user_id</th>\n",
       "      <th>joining_date</th>\n",
       "      <th>country</th>\n",
       "      <th>cities_searched</th>\n",
       "      <th>city_integer_sequence</th>\n",
       "      <th>binary_sequence</th>\n",
       "      <th>country_code</th>\n",
       "    </tr>\n",
       "  </thead>\n",
       "  <tbody>\n",
       "    <tr>\n",
       "      <th>4818</th>\n",
       "      <td>KHH2D79TU73O6</td>\n",
       "      <td>1431465585</td>\n",
       "      <td>Montreal QC, Boston MA, New York NY, Jersey Ci...</td>\n",
       "      <td>5644</td>\n",
       "      <td>2015-03-21</td>\n",
       "      <td>US</td>\n",
       "      <td>11</td>\n",
       "      <td>[48, 8, 51, 33, 52, 6, 87, 53, 13, 65, 26]</td>\n",
       "      <td>[0, 0, 0, 0, 0, 1, 0, 1, 0, 0, 0, 0, 1, 0, 0, ...</td>\n",
       "      <td>5</td>\n",
       "    </tr>\n",
       "    <tr>\n",
       "      <th>17369</th>\n",
       "      <td>W7DQFLART5U1G</td>\n",
       "      <td>1437331755</td>\n",
       "      <td>Chicago IL, Milwaukee WI, Toledo OH, Windsor O...</td>\n",
       "      <td>1667</td>\n",
       "      <td>2015-03-02</td>\n",
       "      <td>US</td>\n",
       "      <td>7</td>\n",
       "      <td>[14, 46, 80, 89, 38, 28, 68]</td>\n",
       "      <td>[0, 0, 0, 0, 0, 0, 0, 0, 0, 0, 0, 0, 0, 1, 0, ...</td>\n",
       "      <td>5</td>\n",
       "    </tr>\n",
       "    <tr>\n",
       "      <th>4136</th>\n",
       "      <td>5NNQ02RXWXCL9</td>\n",
       "      <td>1427661324</td>\n",
       "      <td>Chicago IL, Milwaukee WI, Madison WI, Saint Pa...</td>\n",
       "      <td>8357</td>\n",
       "      <td>2015-03-21</td>\n",
       "      <td>US</td>\n",
       "      <td>7</td>\n",
       "      <td>[14, 46, 42, 69, 47, 57, 34]</td>\n",
       "      <td>[0, 0, 0, 0, 0, 0, 0, 0, 0, 0, 0, 0, 0, 1, 0, ...</td>\n",
       "      <td>5</td>\n",
       "    </tr>\n",
       "    <tr>\n",
       "      <th>14325</th>\n",
       "      <td>9V4KMMSKXLZTU</td>\n",
       "      <td>1429570642</td>\n",
       "      <td>New York NY, Jersey City NJ, Baltimore MD, WAS...</td>\n",
       "      <td>6576</td>\n",
       "      <td>2015-03-14</td>\n",
       "      <td>US</td>\n",
       "      <td>7</td>\n",
       "      <td>[51, 33, 6, 87, 13, 53, 65]</td>\n",
       "      <td>[0, 0, 0, 0, 0, 1, 0, 0, 0, 0, 0, 0, 1, 0, 0, ...</td>\n",
       "      <td>5</td>\n",
       "    </tr>\n",
       "    <tr>\n",
       "      <th>1847</th>\n",
       "      <td>LWPF7JSI7M798</td>\n",
       "      <td>1428265789</td>\n",
       "      <td>Houston TX, San Antonio TX, Corpus Christi TX,...</td>\n",
       "      <td>8618</td>\n",
       "      <td>2015-03-21</td>\n",
       "      <td>US</td>\n",
       "      <td>6</td>\n",
       "      <td>[30, 71, 18, 4, 2, 19]</td>\n",
       "      <td>[0, 1, 0, 1, 0, 0, 0, 0, 0, 0, 0, 0, 0, 0, 0, ...</td>\n",
       "      <td>5</td>\n",
       "    </tr>\n",
       "  </tbody>\n",
       "</table>\n",
       "</div>"
      ],
      "text/plain": [
       "          session_id  unix_timestamp  \\\n",
       "4818   KHH2D79TU73O6      1431465585   \n",
       "17369  W7DQFLART5U1G      1437331755   \n",
       "4136   5NNQ02RXWXCL9      1427661324   \n",
       "14325  9V4KMMSKXLZTU      1429570642   \n",
       "1847   LWPF7JSI7M798      1428265789   \n",
       "\n",
       "                                                  cities  user_id  \\\n",
       "4818   Montreal QC, Boston MA, New York NY, Jersey Ci...     5644   \n",
       "17369  Chicago IL, Milwaukee WI, Toledo OH, Windsor O...     1667   \n",
       "4136   Chicago IL, Milwaukee WI, Madison WI, Saint Pa...     8357   \n",
       "14325  New York NY, Jersey City NJ, Baltimore MD, WAS...     6576   \n",
       "1847   Houston TX, San Antonio TX, Corpus Christi TX,...     8618   \n",
       "\n",
       "      joining_date country  cities_searched  \\\n",
       "4818    2015-03-21      US               11   \n",
       "17369   2015-03-02      US                7   \n",
       "4136    2015-03-21      US                7   \n",
       "14325   2015-03-14      US                7   \n",
       "1847    2015-03-21      US                6   \n",
       "\n",
       "                            city_integer_sequence  \\\n",
       "4818   [48, 8, 51, 33, 52, 6, 87, 53, 13, 65, 26]   \n",
       "17369                [14, 46, 80, 89, 38, 28, 68]   \n",
       "4136                 [14, 46, 42, 69, 47, 57, 34]   \n",
       "14325                 [51, 33, 6, 87, 13, 53, 65]   \n",
       "1847                       [30, 71, 18, 4, 2, 19]   \n",
       "\n",
       "                                         binary_sequence  country_code  \n",
       "4818   [0, 0, 0, 0, 0, 1, 0, 1, 0, 0, 0, 0, 1, 0, 0, ...             5  \n",
       "17369  [0, 0, 0, 0, 0, 0, 0, 0, 0, 0, 0, 0, 0, 1, 0, ...             5  \n",
       "4136   [0, 0, 0, 0, 0, 0, 0, 0, 0, 0, 0, 0, 0, 1, 0, ...             5  \n",
       "14325  [0, 0, 0, 0, 0, 1, 0, 0, 0, 0, 0, 0, 1, 0, 0, ...             5  \n",
       "1847   [0, 1, 0, 1, 0, 0, 0, 0, 0, 0, 0, 0, 0, 0, 0, ...             5  "
      ]
     },
     "execution_count": 51,
     "metadata": {},
     "output_type": "execute_result"
    }
   ],
   "source": [
    "country = 'US'\n",
    "\n",
    "df_searches_per_country =  df_relevant_sequences[df_relevant_sequences['country'] == country]\n",
    "df_searches_per_country.sort_values(['cities_searched'], ascending=False).head()"
   ]
  },
  {
   "cell_type": "code",
   "execution_count": 52,
   "metadata": {
    "scrolled": true
   },
   "outputs": [
    {
     "name": "stdout",
     "output_type": "stream",
     "text": [
      "Maximum length of observed sequences : 10\n",
      "Working with an original of  1815 sequences\n",
      "Working with 2510 prepared sequences\n",
      "[51 58 63 ... 81 51 51]\n",
      "Padded sequences of length: 10\n",
      "[14  0  0  0  0  0  0  0  0  0]\n",
      "Training samples :2008\n",
      "Testing samples :502\n",
      "_________________________________________________________________\n",
      "Layer (type)                 Output Shape              Param #   \n",
      "=================================================================\n",
      "lstm_1 (LSTM)                (None, 10, 100)           76000     \n",
      "_________________________________________________________________\n",
      "dropout_1 (Dropout)          (None, 10, 100)           0         \n",
      "_________________________________________________________________\n",
      "lstm_2 (LSTM)                (None, 100)               80400     \n",
      "_________________________________________________________________\n",
      "dense_1 (Dense)              (None, 89)                8989      \n",
      "=================================================================\n",
      "Total params: 165,389\n",
      "Trainable params: 165,389\n",
      "Non-trainable params: 0\n",
      "_________________________________________________________________\n",
      "Train on 1606 samples, validate on 402 samples\n",
      "Epoch 1/100\n",
      "1606/1606 [==============================] - 2s 2ms/step - loss: 4.3800 - val_loss: 4.0503\n",
      "Epoch 2/100\n",
      "1606/1606 [==============================] - 2s 1ms/step - loss: 3.8417 - val_loss: 3.8116\n",
      "Epoch 3/100\n",
      "1606/1606 [==============================] - 1s 788us/step - loss: 3.6920 - val_loss: 3.7474\n",
      "Epoch 4/100\n",
      "1606/1606 [==============================] - 1s 777us/step - loss: 3.6437 - val_loss: 3.7193\n",
      "Epoch 5/100\n",
      "1606/1606 [==============================] - 1s 927us/step - loss: 3.5989 - val_loss: 3.6349\n",
      "Epoch 6/100\n",
      "1606/1606 [==============================] - 1s 837us/step - loss: 3.5487 - val_loss: 3.5645\n",
      "Epoch 7/100\n",
      "1606/1606 [==============================] - 1s 827us/step - loss: 3.4975 - val_loss: 3.4962\n",
      "Epoch 8/100\n",
      "1606/1606 [==============================] - 1s 762us/step - loss: 3.4312 - val_loss: 3.4237\n",
      "Epoch 9/100\n",
      "1606/1606 [==============================] - 2s 1ms/step - loss: 3.3515 - val_loss: 3.3490\n",
      "Epoch 10/100\n",
      "1606/1606 [==============================] - 2s 989us/step - loss: 3.2547 - val_loss: 3.2661\n",
      "Epoch 11/100\n",
      "1606/1606 [==============================] - 1s 807us/step - loss: 3.1606 - val_loss: 3.1692\n",
      "Epoch 12/100\n",
      "1606/1606 [==============================] - 2s 1ms/step - loss: 3.0399 - val_loss: 3.1055\n",
      "Epoch 13/100\n",
      "1606/1606 [==============================] - 1s 933us/step - loss: 2.9539 - val_loss: 2.9936\n",
      "Epoch 14/100\n",
      "1606/1606 [==============================] - 2s 1ms/step - loss: 2.8724 - val_loss: 2.9480\n",
      "Epoch 15/100\n",
      "1606/1606 [==============================] - 2s 1ms/step - loss: 2.8086 - val_loss: 2.8943\n",
      "Epoch 16/100\n",
      "1606/1606 [==============================] - 2s 1ms/step - loss: 2.7425 - val_loss: 2.8575\n",
      "Epoch 17/100\n",
      "1606/1606 [==============================] - 2s 1ms/step - loss: 2.6800 - val_loss: 2.7866\n",
      "Epoch 18/100\n",
      "1606/1606 [==============================] - 1s 793us/step - loss: 2.6155 - val_loss: 2.7401\n",
      "Epoch 19/100\n",
      "1606/1606 [==============================] - 1s 783us/step - loss: 2.5665 - val_loss: 2.6905\n",
      "Epoch 20/100\n",
      "1606/1606 [==============================] - 1s 769us/step - loss: 2.5281 - val_loss: 2.6637\n",
      "Epoch 21/100\n",
      "1606/1606 [==============================] - 1s 808us/step - loss: 2.4807 - val_loss: 2.6226\n",
      "Epoch 22/100\n",
      "1606/1606 [==============================] - 1s 843us/step - loss: 2.4445 - val_loss: 2.5973\n",
      "Epoch 23/100\n",
      "1606/1606 [==============================] - 1s 834us/step - loss: 2.4167 - val_loss: 2.5919\n",
      "Epoch 24/100\n",
      "1606/1606 [==============================] - 1s 761us/step - loss: 2.3844 - val_loss: 2.5650\n",
      "Epoch 25/100\n",
      "1606/1606 [==============================] - 1s 727us/step - loss: 2.3710 - val_loss: 2.5510\n",
      "Epoch 26/100\n",
      "1606/1606 [==============================] - 1s 727us/step - loss: 2.3549 - val_loss: 2.5383\n",
      "Epoch 27/100\n",
      "1606/1606 [==============================] - 1s 780us/step - loss: 2.3158 - val_loss: 2.5362\n",
      "Epoch 28/100\n",
      "1606/1606 [==============================] - 1s 770us/step - loss: 2.3002 - val_loss: 2.5256\n",
      "Epoch 29/100\n",
      "1606/1606 [==============================] - 1s 782us/step - loss: 2.2853 - val_loss: 2.5160\n",
      "Epoch 30/100\n",
      "1606/1606 [==============================] - 1s 800us/step - loss: 2.2585 - val_loss: 2.5004\n",
      "Epoch 31/100\n",
      "1606/1606 [==============================] - 1s 795us/step - loss: 2.2461 - val_loss: 2.5080\n",
      "Epoch 32/100\n",
      "1606/1606 [==============================] - 1s 769us/step - loss: 2.2317 - val_loss: 2.4733\n",
      "Epoch 33/100\n",
      "1606/1606 [==============================] - 1s 834us/step - loss: 2.2219 - val_loss: 2.4625\n",
      "Epoch 34/100\n",
      "1606/1606 [==============================] - 1s 869us/step - loss: 2.2088 - val_loss: 2.4526\n",
      "Epoch 35/100\n",
      "1606/1606 [==============================] - 1s 776us/step - loss: 2.1962 - val_loss: 2.4966\n",
      "Epoch 36/100\n",
      "1606/1606 [==============================] - 1s 824us/step - loss: 2.1948 - val_loss: 2.4467\n",
      "Epoch 37/100\n",
      "1606/1606 [==============================] - 1s 777us/step - loss: 2.1883 - val_loss: 2.4800\n",
      "Epoch 38/100\n",
      "1606/1606 [==============================] - 1s 773us/step - loss: 2.1824 - val_loss: 2.4549\n",
      "Epoch 39/100\n",
      "1606/1606 [==============================] - 1s 742us/step - loss: 2.1694 - val_loss: 2.4546\n",
      "Epoch 40/100\n",
      "1606/1606 [==============================] - 1s 765us/step - loss: 2.1526 - val_loss: 2.4532\n",
      "Epoch 41/100\n",
      "1606/1606 [==============================] - 1s 903us/step - loss: 2.1397 - val_loss: 2.4338\n",
      "Epoch 42/100\n",
      "1606/1606 [==============================] - 1s 776us/step - loss: 2.1318 - val_loss: 2.4358\n",
      "Epoch 43/100\n",
      "1606/1606 [==============================] - 1s 840us/step - loss: 2.1186 - val_loss: 2.4659\n",
      "Epoch 44/100\n",
      "1606/1606 [==============================] - 1s 781us/step - loss: 2.1135 - val_loss: 2.4318\n",
      "Epoch 45/100\n",
      "1606/1606 [==============================] - 1s 858us/step - loss: 2.1118 - val_loss: 2.4307\n",
      "Epoch 46/100\n",
      "1606/1606 [==============================] - 1s 893us/step - loss: 2.1040 - val_loss: 2.4300\n",
      "Epoch 47/100\n",
      "1606/1606 [==============================] - 1s 876us/step - loss: 2.0940 - val_loss: 2.4280\n",
      "Epoch 48/100\n",
      "1606/1606 [==============================] - 1s 887us/step - loss: 2.0895 - val_loss: 2.4153\n",
      "Epoch 49/100\n",
      "1606/1606 [==============================] - 1s 777us/step - loss: 2.0842 - val_loss: 2.4130\n",
      "Epoch 50/100\n",
      "1606/1606 [==============================] - 1s 828us/step - loss: 2.0727 - val_loss: 2.4206\n",
      "Epoch 51/100\n",
      "1606/1606 [==============================] - 1s 845us/step - loss: 2.0736 - val_loss: 2.4258\n",
      "Epoch 52/100\n",
      "1606/1606 [==============================] - 1s 836us/step - loss: 2.0658 - val_loss: 2.4307\n",
      "Epoch 53/100\n",
      "1606/1606 [==============================] - 1s 832us/step - loss: 2.0640 - val_loss: 2.4093\n",
      "Epoch 54/100\n",
      "1606/1606 [==============================] - 1s 874us/step - loss: 2.0596 - val_loss: 2.4413\n",
      "Epoch 55/100\n",
      "1606/1606 [==============================] - 1s 826us/step - loss: 2.0561 - val_loss: 2.4217\n",
      "Epoch 56/100\n",
      "1606/1606 [==============================] - 1s 767us/step - loss: 2.0511 - val_loss: 2.4019\n",
      "Epoch 57/100\n",
      "1606/1606 [==============================] - 1s 814us/step - loss: 2.0456 - val_loss: 2.4206\n",
      "Epoch 58/100\n",
      "1606/1606 [==============================] - 1s 871us/step - loss: 2.0414 - val_loss: 2.4289\n",
      "Epoch 59/100\n",
      "1606/1606 [==============================] - 1s 806us/step - loss: 2.0288 - val_loss: 2.4121\n",
      "Epoch 60/100\n",
      "1606/1606 [==============================] - 1s 918us/step - loss: 2.0256 - val_loss: 2.4120\n",
      "Epoch 61/100\n",
      "1606/1606 [==============================] - 1s 801us/step - loss: 2.0219 - val_loss: 2.4223\n",
      "Epoch 62/100\n",
      "1606/1606 [==============================] - 1s 840us/step - loss: 2.0188 - val_loss: 2.4105\n",
      "Epoch 63/100\n",
      "1606/1606 [==============================] - 1s 880us/step - loss: 2.0176 - val_loss: 2.4135\n",
      "Epoch 64/100\n",
      "1606/1606 [==============================] - 1s 903us/step - loss: 2.0098 - val_loss: 2.4162\n",
      "Epoch 65/100\n",
      "1606/1606 [==============================] - 1s 809us/step - loss: 2.0099 - val_loss: 2.4075\n",
      "Epoch 66/100\n",
      "1606/1606 [==============================] - 1s 899us/step - loss: 2.0113 - val_loss: 2.4078\n",
      "Epoch 67/100\n"
     ]
    },
    {
     "name": "stdout",
     "output_type": "stream",
     "text": [
      "1606/1606 [==============================] - 1s 844us/step - loss: 2.0026 - val_loss: 2.4089\n",
      "Epoch 68/100\n",
      "1606/1606 [==============================] - 1s 914us/step - loss: 1.9968 - val_loss: 2.4259\n",
      "Epoch 69/100\n",
      "1606/1606 [==============================] - 1s 858us/step - loss: 1.9991 - val_loss: 2.4139\n",
      "Epoch 70/100\n",
      "1606/1606 [==============================] - 2s 962us/step - loss: 2.0051 - val_loss: 2.3970\n",
      "Epoch 71/100\n",
      "1606/1606 [==============================] - 1s 879us/step - loss: 1.9982 - val_loss: 2.3930\n",
      "Epoch 72/100\n",
      "1606/1606 [==============================] - 1s 876us/step - loss: 1.9970 - val_loss: 2.4172\n",
      "Epoch 73/100\n",
      "1606/1606 [==============================] - 1s 810us/step - loss: 1.9922 - val_loss: 2.3993\n",
      "Epoch 74/100\n",
      "1606/1606 [==============================] - 1s 828us/step - loss: 1.9801 - val_loss: 2.4115\n",
      "Epoch 75/100\n",
      "1606/1606 [==============================] - 1s 871us/step - loss: 1.9814 - val_loss: 2.4057\n",
      "Epoch 76/100\n",
      "1606/1606 [==============================] - 1s 912us/step - loss: 1.9760 - val_loss: 2.4175\n",
      "Epoch 77/100\n",
      "1606/1606 [==============================] - 1s 814us/step - loss: 1.9756 - val_loss: 2.3926\n",
      "Epoch 78/100\n",
      "1606/1606 [==============================] - 1s 931us/step - loss: 1.9756 - val_loss: 2.3966\n",
      "Epoch 79/100\n",
      "1606/1606 [==============================] - 1s 860us/step - loss: 1.9686 - val_loss: 2.4148\n",
      "Epoch 80/100\n",
      "1606/1606 [==============================] - 1s 830us/step - loss: 1.9702 - val_loss: 2.4096\n",
      "Epoch 81/100\n",
      "1606/1606 [==============================] - 1s 861us/step - loss: 1.9603 - val_loss: 2.4132\n",
      "Epoch 82/100\n",
      "1606/1606 [==============================] - 1s 769us/step - loss: 1.9650 - val_loss: 2.4099\n",
      "Epoch 83/100\n",
      "1606/1606 [==============================] - 1s 854us/step - loss: 1.9637 - val_loss: 2.4011\n",
      "Epoch 84/100\n",
      "1606/1606 [==============================] - 1s 876us/step - loss: 1.9737 - val_loss: 2.4053\n",
      "Epoch 85/100\n",
      "1606/1606 [==============================] - 1s 864us/step - loss: 1.9636 - val_loss: 2.4514\n",
      "Epoch 86/100\n",
      "1606/1606 [==============================] - 1s 880us/step - loss: 1.9697 - val_loss: 2.4383\n",
      "Epoch 87/100\n",
      "1606/1606 [==============================] - 1s 899us/step - loss: 1.9660 - val_loss: 2.4103\n",
      "Epoch 88/100\n",
      "1606/1606 [==============================] - 1s 888us/step - loss: 1.9544 - val_loss: 2.4119\n",
      "Epoch 89/100\n",
      "1606/1606 [==============================] - 1s 885us/step - loss: 1.9613 - val_loss: 2.4045\n",
      "Epoch 90/100\n",
      "1606/1606 [==============================] - 1s 856us/step - loss: 1.9483 - val_loss: 2.4179\n",
      "Epoch 91/100\n",
      "1606/1606 [==============================] - 1s 925us/step - loss: 1.9491 - val_loss: 2.4075\n",
      "Epoch 92/100\n",
      "1606/1606 [==============================] - 1s 902us/step - loss: 1.9408 - val_loss: 2.4200\n",
      "Epoch 93/100\n",
      "1606/1606 [==============================] - 1s 825us/step - loss: 1.9347 - val_loss: 2.4191\n",
      "Epoch 94/100\n",
      "1606/1606 [==============================] - 1s 859us/step - loss: 1.9411 - val_loss: 2.4063\n",
      "Epoch 95/100\n",
      "1606/1606 [==============================] - 1s 837us/step - loss: 1.9373 - val_loss: 2.4161\n",
      "Epoch 96/100\n",
      "1606/1606 [==============================] - 1s 777us/step - loss: 1.9493 - val_loss: 2.4239\n",
      "Epoch 97/100\n",
      "1606/1606 [==============================] - 1s 761us/step - loss: 1.9397 - val_loss: 2.4215\n",
      "Epoch 98/100\n",
      "1606/1606 [==============================] - 1s 755us/step - loss: 1.9497 - val_loss: 2.4411\n",
      "Epoch 99/100\n",
      "1606/1606 [==============================] - 1s 754us/step - loss: 1.9503 - val_loss: 2.4107\n",
      "Epoch 100/100\n",
      "1606/1606 [==============================] - 1s 760us/step - loss: 1.9351 - val_loss: 2.4658\n",
      "Saving model architecture at path:models/per_country/2019-11-13T034149\n",
      "Saving model weigths at path:models/per_country/2019-11-13T034149\n",
      "Saving model loss at path:models/per_country/2019-11-13T034149\n"
     ]
    },
    {
     "data": {
      "image/png": "[encoded data removed]",
      "text/plain": [
       "<matplotlib.figure.Figure at 0x121c00cc0>"
      ]
     },
     "metadata": {},
     "output_type": "display_data"
    }
   ],
   "source": [
    "all_relevant_sequences = df_searches_per_country['city_integer_sequence'].values\n",
    "all_relevant_sequences\n",
    "\n",
    "max_seq_length = max([len(seq) for seq in all_relevant_sequences]) - 1\n",
    "print('Maximum length of observed sequences : ' + str(max_seq_length))\n",
    "\n",
    "# Save the time at which training starts so we can use it to create the paths in which we will store the model details.\n",
    "training_start_time = np.datetime64('now')\n",
    "\n",
    "# Create a path to store model details\n",
    "path = 'models/per_country/{}'.format(str(training_start_time).replace(':', ''))\n",
    "\n",
    "model, model_history, X_test, y_test = model_training_peipeline(all_relevant_sequences, max_seq_length, path)\n",
    "plot_model_loss(model_history.history['loss'], model_history.history['val_loss'])"
   ]
  },
  {
   "cell_type": "code",
   "execution_count": 53,
   "metadata": {},
   "outputs": [
    {
     "name": "stdout",
     "output_type": "stream",
     "text": [
      "------------------\n",
      "Cities most lilely to be searched next\n",
      "------------------\n",
      "Input city names: ['Vancouver BC', 'Victoria BC', 'Seattle WA', 'Portland OR', 'Stockton CA', 'Sacramento CA']\n",
      "Input city tokens: [84, 85, 77, 63, 78, 67]\n",
      "Padded  sequence: [[84 85 77 63 78 67  0  0  0  0]]\n",
      "Prediction time:\n",
      "1/1 [==============================] - 0s 263ms/step\n",
      "Indexes of predictions with highest scores: [ 9 76 84 62 20]\n",
      "Probability distributions: [0.06665718 0.08231593 0.5163572  0.11586331 0.09428702]\n",
      "5 most probable cities: [85 63 21 77 10]\n",
      "Decoded predictions: ['Victoria BC', 'Portland OR', 'Edmonton AB', 'Seattle WA', 'Calgary AB']\n",
      "----\n",
      "Cities most lilely to be searched next: ['Calgary AB', 'Edmonton AB']\n"
     ]
    }
   ],
   "source": [
    "# Load our best ranking model to see how it performs on some random samples\n",
    "path = 'models/per_country/{}'.format('2019-11-11T190152')\n",
    "model_all_data = load_model(path)\n",
    "\n",
    "print('------------------')\n",
    "print('Cities most lilely to be searched next')\n",
    "print('------------------')\n",
    "\n",
    "# Set number of highest predictions given by the model to consider\n",
    "number_of_most_relevant_predictions = 5\n",
    "\n",
    "most_probable_cities = predict_most_likely_cities(model,input_city_names[0], \n",
    "                                                      number_of_most_relevant_predictions,\n",
    "                                                      max_seq_length,\n",
    "                                                      verbose=True)\n",
    "\n",
    "print('Cities most lilely to be searched next: ' + str(most_probable_cities))"
   ]
  },
  {
   "cell_type": "markdown",
   "metadata": {},
   "source": [
    "In both cases the correct prediction was within the first five. For the first sample it is in the top one. The model seems to be 'working well'. Lets come up with a way to test our models that is more reliable."
   ]
  },
  {
   "cell_type": "markdown",
   "metadata": {},
   "source": [
    "<a id='cell_fourth_question'></a>\n",
    "## Answer to fourth question\n",
    "\n",
    "***Question: *** How did you measure the performance of the prediction algorithms from questions 2 and\n",
    "3? What is your confidence that the measured score is accurate?\n",
    "\n",
    "In order to be able to say how good a model is we need to come up with a fair way to score the predictions each model maked for us. We are going to predict the cities that are most likely to be searched next given a sequence and use those predictions to recommend new cities to be searched to a user, therefore our scoring approach must consider this.\n",
    "\n",
    "### N-Ranking score\n",
    "\n",
    "\n",
    "Let's define our own score. \n",
    "\n",
    "For a given model, one single observation and its corresponding label (ground truth) we can define a the N-Ranking score as 1 if the label value is in the set of N most likely cities to come next according to the model.\n",
    "\n",
    "This score should capture the performance of our models sufficiently well since we will get to see hoe the N-Ranking score for each model changes in function of N. As N increases we expect to see the models having a bigger score since the chances of the labels showing up in the highest prediction increases. A model that scores 1 in more than 60% of the test samples in any N-Ranking score test with N < 5 will be considered remarcably good, since 60% of the times we would be presenting the user with a list of 5 city recommendations in which the city they are looking for is actually in.\n",
    "\n",
    "When exploring a model performance it will be useful to run several model evaluations at the same time and have the results presented cleanly. This will be done below in a method named 'evaluate_all_models'.\n",
    "\n"
   ]
  },
  {
   "cell_type": "markdown",
   "metadata": {},
   "source": [
    "## Evaluating the model formally\n",
    "\n",
    "Let's create a method to calculate the N-Ranking score of a given model on a set of observed sequences and their corresponding labels."
   ]
  },
  {
   "cell_type": "code",
   "execution_count": 54,
   "metadata": {
    "collapsed": true
   },
   "outputs": [],
   "source": [
    "def n_ranking_score(model, X_test, y_test, N, verbose=0):\n",
    "    \"\"\"\n",
    "    Compute the n-ranking score for a given model on a set of observations with a set of corresponding labels and\n",
    "    the number of predictions to consider\n",
    "    \n",
    "    :param model : Model to score.\n",
    "    :param X_test: Set of observations for testing.\n",
    "    :param y_test: Set of labels to verify the predictions with\n",
    "    :param N     : number of highest ranking predictions to take for the score\n",
    "    :return: Dictionary containing details of score.\n",
    "    \"\"\"\n",
    "    X_predictions = model.predict(X_test,verbose=verbose)\n",
    "    y_tokens = decode_vectors(y_test)\n",
    "    \n",
    "    score_counts = 0\n",
    "    for idx, pred in enumerate(X_predictions):\n",
    "        ordered_predictions = extract_most_relevant_predictions(pred, N)\n",
    "        expected_y = y_tokens[idx]\n",
    "        index_of_expected = np.where(ordered_predictions == expected_y)[0] \n",
    "\n",
    "        if index_of_expected.size > 0:\n",
    "            score_counts += 1\n",
    "        \n",
    "    score_percentage = (score_counts*100)/len(X_test)\n",
    "        \n",
    "    return {'type':'Top {}'.format(N),\n",
    "            'score_counts': score_counts,\n",
    "            'score_pc':score_percentage,\n",
    "            'samples': len(X_test)}"
   ]
  },
  {
   "cell_type": "markdown",
   "metadata": {},
   "source": [
    "The following method will evaluate all the models in a given path, each model will be put through as many tests as first_n_ranks one for each n in [0, 1, ... , first_n_ranks-1]. All the results of the tests will be displayed together."
   ]
  },
  {
   "cell_type": "code",
   "execution_count": 65,
   "metadata": {
    "collapsed": true
   },
   "outputs": [],
   "source": [
    "def evaluate_all_models(base_path, first_n_ranks, verbose=False):\n",
    "    \"\"\"\n",
    "    Create the first 'first_n_ranks' n_rank reports of all the models saved in a given path.\n",
    "    \n",
    "    :param base_path : Path were models are saved.\n",
    "    :param first_n_ranks: number of experiments to execute\n",
    "    \n",
    "    :return: Dataframe with scoring details of each model and each n-rank score.\n",
    "    \"\"\"\n",
    "    dirlist = [ item for item in os.listdir(base_path) if os.path.isdir(os.path.join(base_path, item))]\n",
    "    if verbose:\n",
    "        print('Found the following models: ' + str(dirlist))\n",
    "\n",
    "    df_scores = pd.DataFrame(columns= ['Model', 'Type', 'Counts', 'Percentage', 'Samples'])\n",
    "    model_paths = []\n",
    "    model_types = []\n",
    "    model_scores = []\n",
    "    model_pctgs = []\n",
    "    \n",
    "    for mdir in dirlist:\n",
    "        path = base_path + mdir\n",
    "        model = load_model(path)\n",
    "        model_loss = load_loss(path)\n",
    "        \n",
    "        if verbose:\n",
    "            print('------------------')\n",
    "            print('Model: ' + str(path))\n",
    "            print(model.summary())\n",
    "            \n",
    "        plot_model_loss(model_loss['loss'], model_loss['val_loss'])\n",
    "        \n",
    "        for i in range(first_n_ranks):\n",
    "            score = n_ranking_score(model, X_test, y_test, i+1, verbose=False)\n",
    "            model_paths.append(path)\n",
    "            model_scores.append(score['score_counts'])\n",
    "            model_pctgs.append(score['score_pc'])\n",
    "            model_types.append(score['type'])\n",
    "        \n",
    "    df_scores['Model'] = model_paths\n",
    "    df_scores['Type'] = model_types\n",
    "    df_scores['Counts'] = model_scores\n",
    "    df_scores['Percentage'] = model_pctgs\n",
    "    df_scores['Samples'] = [len(X_test)] * len(model_paths)\n",
    "\n",
    "    return df_scores"
   ]
  },
  {
   "cell_type": "markdown",
   "metadata": {
    "collapsed": true
   },
   "source": [
    "Get the higest scoring models and print them so we can see them."
   ]
  },
  {
   "cell_type": "code",
   "execution_count": 56,
   "metadata": {
    "collapsed": true
   },
   "outputs": [],
   "source": [
    "def highest_ranking_models(general_scores, highest_ranking_models):\n",
    "    for i in range(number_of_most_relevant_predictions):\n",
    "        experiment_type = 'Top ' + str(i+1)\n",
    "        print('Best {} ranking models for experiment {}'.format(highest_ranking_models, experiment_type))\n",
    "        top_scores = general_scores[general_scores['Type'] == experiment_type].sort_values(['Counts'], ascending=False)[:highest_ranking_models]\n",
    "        print(top_scores.head())\n",
    "        print('\\n')\n",
    "        "
   ]
  },
  {
   "cell_type": "markdown",
   "metadata": {},
   "source": [
    "***Let's score all the models that where trained on all the data.***\n",
    "\n",
    "To do so we'll make use of the evaluate_all_models() method. We'll pass a first_n_ranks of 5 to get the first five n-rank scores.\n"
   ]
  },
  {
   "cell_type": "code",
   "execution_count": 57,
   "metadata": {
    "scrolled": false
   },
   "outputs": [
    {
     "name": "stdout",
     "output_type": "stream",
     "text": [
      "Found the following models: ['2019-11-11T191406', '2019-11-11T195345', '2019-11-11T190647']\n",
      "------------------\n",
      "Model: models/all_data/2019-11-11T191406\n",
      "_________________________________________________________________\n",
      "Layer (type)                 Output Shape              Param #   \n",
      "=================================================================\n",
      "lstm_26 (LSTM)               (None, 10, 100)           76000     \n",
      "_________________________________________________________________\n",
      "dropout_12 (Dropout)         (None, 10, 100)           0         \n",
      "_________________________________________________________________\n",
      "lstm_27 (LSTM)               (None, 100)               80400     \n",
      "_________________________________________________________________\n",
      "dense_15 (Dense)             (None, 89)                8989      \n",
      "=================================================================\n",
      "Total params: 165,389\n",
      "Trainable params: 165,389\n",
      "Non-trainable params: 0\n",
      "_________________________________________________________________\n",
      "None\n"
     ]
    },
    {
     "data": {
      "image/png": "[encoded data removed]",
      "text/plain": [
       "<matplotlib.figure.Figure at 0x125719470>"
      ]
     },
     "metadata": {},
     "output_type": "display_data"
    },
    {
     "name": "stdout",
     "output_type": "stream",
     "text": [
      "------------------\n",
      "Model: models/all_data/2019-11-11T195345\n",
      "_________________________________________________________________\n",
      "Layer (type)                 Output Shape              Param #   \n",
      "=================================================================\n",
      "lstm_37 (LSTM)               (None, 10, 100)           76000     \n",
      "_________________________________________________________________\n",
      "dropout_19 (Dropout)         (None, 10, 100)           0         \n",
      "_________________________________________________________________\n",
      "lstm_38 (LSTM)               (None, 10, 100)           80400     \n",
      "_________________________________________________________________\n",
      "dropout_20 (Dropout)         (None, 10, 100)           0         \n",
      "_________________________________________________________________\n",
      "lstm_39 (LSTM)               (None, 100)               80400     \n",
      "_________________________________________________________________\n",
      "dense_17 (Dense)             (None, 89)                8989      \n",
      "=================================================================\n",
      "Total params: 245,789\n",
      "Trainable params: 245,789\n",
      "Non-trainable params: 0\n",
      "_________________________________________________________________\n",
      "None\n"
     ]
    },
    {
     "data": {
      "image/png": "[encoded data removed]",
      "text/plain": [
       "<matplotlib.figure.Figure at 0x1254c5390>"
      ]
     },
     "metadata": {},
     "output_type": "display_data"
    },
    {
     "name": "stdout",
     "output_type": "stream",
     "text": [
      "------------------\n",
      "Model: models/all_data/2019-11-11T190647\n",
      "_________________________________________________________________\n",
      "Layer (type)                 Output Shape              Param #   \n",
      "=================================================================\n",
      "lstm_24 (LSTM)               (None, 10, 100)           76000     \n",
      "_________________________________________________________________\n",
      "dropout_11 (Dropout)         (None, 10, 100)           0         \n",
      "_________________________________________________________________\n",
      "lstm_25 (LSTM)               (None, 100)               80400     \n",
      "_________________________________________________________________\n",
      "dense_14 (Dense)             (None, 89)                8989      \n",
      "=================================================================\n",
      "Total params: 165,389\n",
      "Trainable params: 165,389\n",
      "Non-trainable params: 0\n",
      "_________________________________________________________________\n",
      "None\n"
     ]
    },
    {
     "data": {
      "image/png": "[encoded data removed]",
      "text/plain": [
       "<matplotlib.figure.Figure at 0x127626588>"
      ]
     },
     "metadata": {},
     "output_type": "display_data"
    }
   ],
   "source": [
    "base_path = 'models/all_data/'\n",
    "general_scores = evaluate_all_models(path=base_path, first_n_ranks = 5, verbose=True)"
   ]
  },
  {
   "cell_type": "code",
   "execution_count": 58,
   "metadata": {
    "collapsed": true
   },
   "outputs": [],
   "source": [
    "# general_scores.head()"
   ]
  },
  {
   "cell_type": "code",
   "execution_count": 59,
   "metadata": {},
   "outputs": [
    {
     "name": "stdout",
     "output_type": "stream",
     "text": [
      "------------ Model ranking ------------ \n",
      "\n",
      "Best 3 ranking models for experiment Top 1\n",
      "                                Model   Type  Counts  Percentage  Samples\n",
      "0   models/all_data/2019-11-11T191406  Top 1     139   27.689243      502\n",
      "5   models/all_data/2019-11-11T195345  Top 1     131   26.095618      502\n",
      "10  models/all_data/2019-11-11T190647  Top 1     130   25.896414      502\n",
      "\n",
      "\n",
      "Best 3 ranking models for experiment Top 2\n",
      "                                Model   Type  Counts  Percentage  Samples\n",
      "6   models/all_data/2019-11-11T195345  Top 2     227   45.219124      502\n",
      "1   models/all_data/2019-11-11T191406  Top 2     221   44.023904      502\n",
      "11  models/all_data/2019-11-11T190647  Top 2     218   43.426295      502\n",
      "\n",
      "\n",
      "Best 3 ranking models for experiment Top 3\n",
      "                                Model   Type  Counts  Percentage  Samples\n",
      "12  models/all_data/2019-11-11T190647  Top 3     299   59.561753      502\n",
      "7   models/all_data/2019-11-11T195345  Top 3     298   59.362550      502\n",
      "2   models/all_data/2019-11-11T191406  Top 3     295   58.764940      502\n",
      "\n",
      "\n",
      "Best 3 ranking models for experiment Top 4\n",
      "                                Model   Type  Counts  Percentage  Samples\n",
      "8   models/all_data/2019-11-11T195345  Top 4     346   68.924303      502\n",
      "13  models/all_data/2019-11-11T190647  Top 4     346   68.924303      502\n",
      "3   models/all_data/2019-11-11T191406  Top 4     342   68.127490      502\n",
      "\n",
      "\n",
      "Best 3 ranking models for experiment Top 5\n",
      "                                Model   Type  Counts  Percentage  Samples\n",
      "14  models/all_data/2019-11-11T190647  Top 5     381   75.896414      502\n",
      "4   models/all_data/2019-11-11T191406  Top 5     378   75.298805      502\n",
      "9   models/all_data/2019-11-11T195345  Top 5     378   75.298805      502\n",
      "\n",
      "\n"
     ]
    }
   ],
   "source": [
    "print('------------ Model ranking ------------ \\n')\n",
    "highest_ranking_models(general_scores, highest_ranking_models = 3)"
   ]
  },
  {
   "cell_type": "markdown",
   "metadata": {},
   "source": [
    "### Model results on all data\n",
    "\n",
    "First of all, let's remember that when Google proposes search options to us it usually shows us between 7 and 10 options and usually if we see the search string that we were struggling to type in the proposed list we have a very good experience.\n",
    "\n",
    "Having this in mind we will consider a model that correctly predicts the city the user was going to type within a list of 5 predictions more than 70% of the times a very good model.\n",
    "\n",
    "We have computed the first 5 n-rank score for all the models we trained and displayed them above. We can see that our LSTMs perform differently for different values of N.\n",
    "\n",
    "A very good candidate to be tested in a production environment would be the model at path 'models/all_data/2019-11-11T190647' the highest ranking model in the top 3 and 5 categories. This model will predict the correct city among a list of 5 others 75.9% of the time. This is an amazing performance for a model that only learned from a bit over 9000 data points.\n",
    "\n"
   ]
  },
  {
   "cell_type": "markdown",
   "metadata": {},
   "source": [
    "***Let's score all the models that where trained data for the US.***\n",
    "\n"
   ]
  },
  {
   "cell_type": "code",
   "execution_count": 68,
   "metadata": {
    "scrolled": false
   },
   "outputs": [
    {
     "name": "stdout",
     "output_type": "stream",
     "text": [
      "Found the following models: ['2019-11-12T223642', '2019-11-11T190647', '2019-11-11T190152']\n",
      "------------------\n",
      "Model: models/per_country/2019-11-12T223642\n",
      "_________________________________________________________________\n",
      "Layer (type)                 Output Shape              Param #   \n",
      "=================================================================\n",
      "lstm_1 (LSTM)                (None, 10, 100)           76000     \n",
      "_________________________________________________________________\n",
      "dropout_1 (Dropout)          (None, 10, 100)           0         \n",
      "_________________________________________________________________\n",
      "lstm_2 (LSTM)                (None, 100)               80400     \n",
      "_________________________________________________________________\n",
      "dense_1 (Dense)              (None, 89)                8989      \n",
      "=================================================================\n",
      "Total params: 165,389\n",
      "Trainable params: 165,389\n",
      "Non-trainable params: 0\n",
      "_________________________________________________________________\n",
      "None\n"
     ]
    },
    {
     "data": {
      "image/png": "[encoded data removed]",
      "text/plain": [
       "<matplotlib.figure.Figure at 0x12c696400>"
      ]
     },
     "metadata": {},
     "output_type": "display_data"
    },
    {
     "name": "stdout",
     "output_type": "stream",
     "text": [
      "------------------\n",
      "Model: models/per_country/2019-11-11T190647\n",
      "_________________________________________________________________\n",
      "Layer (type)                 Output Shape              Param #   \n",
      "=================================================================\n",
      "lstm_23 (LSTM)               (None, 160)               160000    \n",
      "_________________________________________________________________\n",
      "dense_13 (Dense)             (None, 89)                14329     \n",
      "=================================================================\n",
      "Total params: 174,329\n",
      "Trainable params: 174,329\n",
      "Non-trainable params: 0\n",
      "_________________________________________________________________\n",
      "None\n"
     ]
    },
    {
     "data": {
      "image/png": "[encoded data removed]",
      "text/plain": [
       "<matplotlib.figure.Figure at 0x13110ec18>"
      ]
     },
     "metadata": {},
     "output_type": "display_data"
    },
    {
     "name": "stdout",
     "output_type": "stream",
     "text": [
      "------------------\n",
      "Model: models/per_country/2019-11-11T190152\n",
      "_________________________________________________________________\n",
      "Layer (type)                 Output Shape              Param #   \n",
      "=================================================================\n",
      "lstm_21 (LSTM)               (None, 10, 100)           76000     \n",
      "_________________________________________________________________\n",
      "dropout_10 (Dropout)         (None, 10, 100)           0         \n",
      "_________________________________________________________________\n",
      "lstm_22 (LSTM)               (None, 100)               80400     \n",
      "_________________________________________________________________\n",
      "dense_12 (Dense)             (None, 89)                8989      \n",
      "=================================================================\n",
      "Total params: 165,389\n",
      "Trainable params: 165,389\n",
      "Non-trainable params: 0\n",
      "_________________________________________________________________\n",
      "None\n"
     ]
    },
    {
     "data": {
      "image/png": "[encoded data removed]",
      "text/plain": [
       "<matplotlib.figure.Figure at 0x130d21be0>"
      ]
     },
     "metadata": {},
     "output_type": "display_data"
    }
   ],
   "source": [
    "base_path = 'models/per_country/'\n",
    "general_scores = evaluate_all_models(base_path, first_n_ranks=5, verbose=True)"
   ]
  },
  {
   "cell_type": "code",
   "execution_count": 69,
   "metadata": {},
   "outputs": [
    {
     "name": "stdout",
     "output_type": "stream",
     "text": [
      "------------ Model ranking ------------ \n",
      "\n",
      "Best 3 ranking models for experiment Top 1\n",
      "                                   Model   Type  Counts  Percentage  Samples\n",
      "10  models/per_country/2019-11-11T190152  Top 1     123   24.501992      502\n",
      "0   models/per_country/2019-11-12T223642  Top 1     121   24.103586      502\n",
      "5   models/per_country/2019-11-11T190647  Top 1     116   23.107570      502\n",
      "\n",
      "\n",
      "Best 3 ranking models for experiment Top 2\n",
      "                                   Model   Type  Counts  Percentage  Samples\n",
      "1   models/per_country/2019-11-12T223642  Top 2     202   40.239044      502\n",
      "11  models/per_country/2019-11-11T190152  Top 2     195   38.844622      502\n",
      "6   models/per_country/2019-11-11T190647  Top 2     193   38.446215      502\n",
      "\n",
      "\n",
      "Best 3 ranking models for experiment Top 3\n",
      "                                   Model   Type  Counts  Percentage  Samples\n",
      "7   models/per_country/2019-11-11T190647  Top 3     260   51.792829      502\n",
      "12  models/per_country/2019-11-11T190152  Top 3     259   51.593625      502\n",
      "2   models/per_country/2019-11-12T223642  Top 3     258   51.394422      502\n",
      "\n",
      "\n",
      "Best 3 ranking models for experiment Top 4\n",
      "                                   Model   Type  Counts  Percentage  Samples\n",
      "8   models/per_country/2019-11-11T190647  Top 4     313   62.350598      502\n",
      "3   models/per_country/2019-11-12T223642  Top 4     306   60.956175      502\n",
      "13  models/per_country/2019-11-11T190152  Top 4     296   58.964143      502\n",
      "\n",
      "\n",
      "Best 3 ranking models for experiment Top 5\n",
      "                                   Model   Type  Counts  Percentage  Samples\n",
      "9   models/per_country/2019-11-11T190647  Top 5     342   68.127490      502\n",
      "14  models/per_country/2019-11-11T190152  Top 5     339   67.529880      502\n",
      "4   models/per_country/2019-11-12T223642  Top 5     337   67.131474      502\n",
      "\n",
      "\n"
     ]
    }
   ],
   "source": [
    "print('------------ Model ranking ------------ \\n')\n",
    "highest_ranking_models(general_scores, 3)"
   ]
  },
  {
   "cell_type": "markdown",
   "metadata": {
    "collapsed": true
   },
   "source": [
    "The models trained on only data for the US did not perform better than the models trained over all the data. This is specific to the type of model that we used since for DNNs usually the more meaningful data the better.\n",
    "\n",
    "Also considering the fact that we had around 4/5 less data when training for only one country the models still performed decently well on the tests. It would be interesting to retrain very similar models with more data for the same country and see if the performance gets better.\n",
    "\n",
    "For this project I used LSTM based models since they are great for learning from sequences and they are among the most powerful RNNs. Other approaches could also be considered such as HMMs or Compact Prediction Trees\n"
   ]
  },
  {
   "cell_type": "code",
   "execution_count": null,
   "metadata": {
    "collapsed": true
   },
   "outputs": [],
   "source": []
  }
 ],
 "metadata": {
  "kernelspec": {
   "display_name": "Python 3",
   "language": "python",
   "name": "python3"
  },
  "language_info": {
   "codemirror_mode": {
    "name": "ipython",
    "version": 3
   },
   "file_extension": ".py",
   "mimetype": "text/x-python",
   "name": "python",
   "nbconvert_exporter": "python",
   "pygments_lexer": "ipython3",
   "version": "3.5.4"
  }
 },
 "nbformat": 4,
 "nbformat_minor": 2
}
